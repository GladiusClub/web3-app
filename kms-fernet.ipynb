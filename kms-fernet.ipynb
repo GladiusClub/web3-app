{
 "cells": [
  {
   "attachments": {},
   "cell_type": "markdown",
   "metadata": {},
   "source": [
    "# Save user private key in GCP KMS\n",
    "\n",
    "#### Step 1. Activate Cloud Key Management Service (KMS) API\n",
    "https://console.cloud.google.com/marketplace/product/google/cloudkms.googleapis.com"
   ]
  },
  {
   "attachments": {},
   "cell_type": "markdown",
   "metadata": {},
   "source": [
    "#### Step 2. Create a Google service account that has the role of Cloud KMS Admin\n",
    "https://console.cloud.google.com/iam-admin/serviceaccounts\n",
    "\n",
    "Generate and download a private key for the service account in JSON format"
   ]
  },
  {
   "attachments": {},
   "cell_type": "markdown",
   "metadata": {},
   "source": [
    "#### Step 3. Install KMS client lib\n",
    "\n",
    "pip install google-cloud-kms firebase-admin"
   ]
  },
  {
   "attachments": {},
   "cell_type": "markdown",
   "metadata": {},
   "source": [
    "#### Step 4. Connect to KMS"
   ]
  },
  {
   "cell_type": "code",
   "execution_count": 1,
   "metadata": {},
   "outputs": [],
   "source": [
    "from google.cloud import kms\n",
    "from google.oauth2 import service_account"
   ]
  },
  {
   "cell_type": "code",
   "execution_count": 2,
   "metadata": {},
   "outputs": [],
   "source": [
    "# SERVICE_ACCOUNT_FILE = '../firebase-adminsdk.json'\n",
    "SERVICE_ACCOUNT_FILE = '../kms-admin.json'\n",
    "\n",
    "project_id = 'wallet-login-45c1c'"
   ]
  },
  {
   "cell_type": "code",
   "execution_count": 3,
   "metadata": {},
   "outputs": [],
   "source": [
    "\n",
    "# Create the credentials object from the service account file.\n",
    "credentials = service_account.Credentials.from_service_account_file(SERVICE_ACCOUNT_FILE)\n",
    "\n",
    "# Create the client with the credentials.\n",
    "client = kms.KeyManagementServiceClient(credentials=credentials)\n"
   ]
  },
  {
   "attachments": {},
   "cell_type": "markdown",
   "metadata": {},
   "source": [
    "create a key ring, a key, and a key version. You can specify the name of the key when you create it. \n",
    "For example, you can use the following code to create a symmetric encryption key named gladius-key in a key ring named gladius-key-ring in the global location"
   ]
  },
  {
   "cell_type": "code",
   "execution_count": null,
   "metadata": {},
   "outputs": [],
   "source": [
    "\n",
    "\n",
    "# Build the parent name from the project and location.\n",
    "parent = f\"projects/{project_id}/locations/global\"\n",
    "\n",
    "# Build the key ring name.\n",
    "key_ring_name = f\"{parent}/keyRings/gladius-key-ring\"\n",
    "\n",
    "# Build the key name.\n",
    "key_name = f\"{key_ring_name}/cryptoKeys/gladius-key\"\n",
    "\n",
    "# Create the key ring.\n",
    "key_ring = {}\n",
    "client.create_key_ring(request={\"parent\": parent, \"key_ring_id\": \"gladius-key-ring\", \"key_ring\": key_ring})\n",
    "\n",
    "# Create the key.\n",
    "purpose = kms.CryptoKey.CryptoKeyPurpose.ENCRYPT_DECRYPT\n",
    "crypto_key = {\"purpose\": purpose}\n",
    "client.create_crypto_key(request={\"parent\": key_ring_name, \"crypto_key_id\": \"gladius-key\", \"crypto_key\": crypto_key})\n"
   ]
  },
  {
   "attachments": {},
   "cell_type": "markdown",
   "metadata": {},
   "source": [
    "### Test KMS"
   ]
  },
  {
   "attachments": {},
   "cell_type": "markdown",
   "metadata": {},
   "source": [
    "You can use the client library to encrypt and decrypt data with the key you created. For example, you can use the following code to encrypt and decrypt a message using gladius-key"
   ]
  },
  {
   "cell_type": "code",
   "execution_count": 4,
   "metadata": {},
   "outputs": [
    {
     "name": "stdout",
     "output_type": "stream",
     "text": [
      "b\"\\n$\\x00\\x17ax<Kdts\\xccu\\xc9\\xe3\\x8c\\xa7\\xc8\\xd0\\xbe'#\\x04\\xaa\\xee\\xc7\\xd2\\xf4U\\xe6\\x05\\xc6\\xad\\xd2\\xec\\x1a\\xa7Q\\x127\\x00T\\xe6\\xeb<\\xbf\\xc6\\n\\x9dK\\xa0\\xa6\\xc7\\x0e\\xa86\\x83\\xf6\\x91$\\xb3@?\\x1do^\\x1a\\xf1\\xe9p\\x1aO\\x80x]\\xa4\\xf2r\\xf9]\\x82\\xf0\\x17\\x91\\x98\\x89\\xc2\\xae1cc\\n\\xc5r\\x0f\"\n"
     ]
    }
   ],
   "source": [
    "\n",
    "# Build the key name.\n",
    "key_name = f\"projects/{project_id}/locations/global/keyRings/gladius-key-ring/cryptoKeys/gladius-key\"\n",
    "\n",
    "# The message to encrypt.\n",
    "message = b\"Hello Gladius!\"\n",
    "\n",
    "# Encrypt the message.\n",
    "response = client.encrypt(request={\"name\": key_name, \"plaintext\": message})\n",
    "ciphertext = response.ciphertext\n",
    "\n",
    "print(ciphertext)"
   ]
  },
  {
   "cell_type": "code",
   "execution_count": 5,
   "metadata": {},
   "outputs": [
    {
     "name": "stdout",
     "output_type": "stream",
     "text": [
      "b'Hello Gladius!'\n"
     ]
    }
   ],
   "source": [
    "# Decrypt the message.\n",
    "response = client.decrypt(request={\"name\": key_name, \"ciphertext\": ciphertext})\n",
    "plaintext = response.plaintext\n",
    "\n",
    "print(plaintext)\n"
   ]
  },
  {
   "attachments": {},
   "cell_type": "markdown",
   "metadata": {},
   "source": [
    "### Step 5. Encrypt private_key with Fernet and encryption key stored in Cloud KMS\n",
    "https://cryptography.io/en/latest/fernet/"
   ]
  },
  {
   "cell_type": "code",
   "execution_count": 9,
   "metadata": {},
   "outputs": [],
   "source": [
    "# pip install cryptography\n",
    "\n",
    "from cryptography.fernet import Fernet\n"
   ]
  },
  {
   "attachments": {},
   "cell_type": "markdown",
   "metadata": {},
   "source": [
    "Use the generate_key() method of the Fernet class to generate a new fernet key2. The key is a random value, and will be completely different each time you call the method2. The key is a URL-safe base64-encoded 32-byte key2. You need to keep this key safe and secret, as it is the only way to encrypt and decrypt your data with Fernet2. For example:"
   ]
  },
  {
   "cell_type": "code",
   "execution_count": 10,
   "metadata": {},
   "outputs": [],
   "source": [
    "# this will be our encryption key\n",
    "\n",
    "key = Fernet.generate_key()"
   ]
  },
  {
   "attachments": {},
   "cell_type": "markdown",
   "metadata": {},
   "source": [
    "Connect to KMS with SA"
   ]
  },
  {
   "cell_type": "code",
   "execution_count": 46,
   "metadata": {},
   "outputs": [],
   "source": [
    "from google.cloud import kms\n",
    "from google.oauth2 import service_account\n",
    "\n",
    "# Create the credentials object from the service account file.\n",
    "credentials = service_account.Credentials.from_service_account_file(SERVICE_ACCOUNT_FILE)\n",
    "\n",
    "# Create the client with the credentials.\n",
    "client = kms.KeyManagementServiceClient(credentials=credentials)"
   ]
  },
  {
   "attachments": {},
   "cell_type": "markdown",
   "metadata": {},
   "source": [
    "Create a key ring and a key in Cloud KMS to store your encryption key\n",
    "https://cloud.google.com/kms/docs/create-encryption-keys"
   ]
  },
  {
   "attachments": {},
   "cell_type": "markdown",
   "metadata": {},
   "source": [
    "##### Gladius Key Ring - Gladius Key"
   ]
  },
  {
   "cell_type": "code",
   "execution_count": 6,
   "metadata": {},
   "outputs": [
    {
     "data": {
      "text/plain": [
       "name: \"projects/wallet-login-45c1c/locations/global/keyRings/gladius-key-ring/cryptoKeys/gladius-key\"\n",
       "primary {\n",
       "  name: \"projects/wallet-login-45c1c/locations/global/keyRings/gladius-key-ring/cryptoKeys/gladius-key/cryptoKeyVersions/1\"\n",
       "  state: ENABLED\n",
       "  protection_level: SOFTWARE\n",
       "  algorithm: GOOGLE_SYMMETRIC_ENCRYPTION\n",
       "  create_time {\n",
       "    seconds: 1687953796\n",
       "    nanos: 295077766\n",
       "  }\n",
       "  generate_time {\n",
       "    seconds: 1687953796\n",
       "    nanos: 295077766\n",
       "  }\n",
       "}\n",
       "purpose: ENCRYPT_DECRYPT\n",
       "create_time {\n",
       "  seconds: 1687953796\n",
       "  nanos: 295077766\n",
       "}\n",
       "version_template {\n",
       "  protection_level: SOFTWARE\n",
       "  algorithm: GOOGLE_SYMMETRIC_ENCRYPTION\n",
       "}\n",
       "destroy_scheduled_duration {\n",
       "  seconds: 86400\n",
       "}"
      ]
     },
     "execution_count": 6,
     "metadata": {},
     "output_type": "execute_result"
    }
   ],
   "source": [
    "\n",
    "# Build the parent name from the project and location.\n",
    "parent = f\"projects/{project_id}/locations/global\"\n",
    "\n",
    "# Build the key ring name.\n",
    "key_ring_name = f\"{parent}/keyRings/gladius-key-ring\"\n",
    "\n",
    "# Build the key name.\n",
    "key_name = f\"{key_ring_name}/cryptoKeys/gladius-key\"\n",
    "\n",
    "# Create the key ring.\n",
    "key_ring = {}\n",
    "client.create_key_ring(request={\"parent\": parent, \"key_ring_id\": \"gladius-key-ring\", \"key_ring\": key_ring})\n",
    "\n",
    "# Create the key.\n",
    "purpose = kms.CryptoKey.CryptoKeyPurpose.ENCRYPT_DECRYPT\n",
    "crypto_key = {\"purpose\": purpose}\n",
    "client.create_crypto_key(request={\"parent\": key_ring_name, \"crypto_key_id\": \"gladius-key\", \"crypto_key\": crypto_key})\n"
   ]
  },
  {
   "attachments": {},
   "cell_type": "markdown",
   "metadata": {},
   "source": [
    "Use the encrypt() method of the client to encrypt your encryption key with your Cloud KMS key\n",
    "\n",
    "https://cloud.google.com/kms/docs/create-encryption-keys"
   ]
  },
  {
   "cell_type": "code",
   "execution_count": 7,
   "metadata": {},
   "outputs": [
    {
     "data": {
      "text/plain": [
       "'projects/wallet-login-45c1c/locations/global/keyRings/gladius-key-ring/cryptoKeys/gladius-key'"
      ]
     },
     "execution_count": 7,
     "metadata": {},
     "output_type": "execute_result"
    }
   ],
   "source": [
    "key_name"
   ]
  },
  {
   "cell_type": "code",
   "execution_count": 11,
   "metadata": {},
   "outputs": [],
   "source": [
    "\n",
    "# Encrypt the encryption key with Google KMS.\n",
    "\n",
    "response = client.encrypt(request={\"name\": key_name, \"plaintext\": key})\n",
    "encrypted_encryption_key = response.ciphertext\n"
   ]
  },
  {
   "attachments": {},
   "cell_type": "markdown",
   "metadata": {},
   "source": [
    "Use the client library to decrypt your encryption key that was encrypted with a Cloud KMS key\n",
    "\n",
    "https://cloud.google.com/kms/docs/encrypt-decrypt"
   ]
  },
  {
   "cell_type": "code",
   "execution_count": 12,
   "metadata": {},
   "outputs": [],
   "source": [
    "\n",
    "# Decrypt your encryption key with Google KMS.\n",
    "response = client.decrypt(request={\"name\": key_name, \"ciphertext\": encrypted_encryption_key})\n",
    "encryption_key = response.plaintext"
   ]
  },
  {
   "attachments": {},
   "cell_type": "markdown",
   "metadata": {},
   "source": [
    "Create a Fernet object with your encryption key\n",
    "\n",
    "https://www.geeksforgeeks.org/fernet-symmetric-encryption-using-cryptography-module-in-python/"
   ]
  },
  {
   "cell_type": "code",
   "execution_count": 13,
   "metadata": {},
   "outputs": [],
   "source": [
    "f = Fernet(encryption_key)\n"
   ]
  },
  {
   "attachments": {},
   "cell_type": "markdown",
   "metadata": {},
   "source": [
    "Firebase"
   ]
  },
  {
   "cell_type": "code",
   "execution_count": 14,
   "metadata": {},
   "outputs": [],
   "source": [
    "import firebase_admin\n",
    "from firebase_admin import auth, credentials, firestore\n",
    "\n",
    "\n",
    "if not firebase_admin._apps:\n",
    "    cred = credentials.Certificate(\"../firebase-adminsdk.json\")\n",
    "    default_app = firebase_admin.initialize_app(cred)\n",
    "# Get a reference to the firestore database\n",
    "db = firestore.client()\n",
    "\n",
    "# Get a reference to the users collection.\n",
    "users_ref = db.collection(\"users\")\n",
    "\n",
    "# Get all documents from the users collection.\n",
    "users_docs = users_ref.stream()"
   ]
  },
  {
   "attachments": {},
   "cell_type": "markdown",
   "metadata": {},
   "source": [
    "Use the update() method of the Firestore client to save or update the name field for a specific user document. You need to specify the document reference and a dictionary of fields and values to update. For each name field, use the encrypt() method of Fernet to encrypt it with your encryption key"
   ]
  },
  {
   "cell_type": "code",
   "execution_count": 15,
   "metadata": {},
   "outputs": [],
   "source": [
    "# Iterate over the documents and encrypt and update the name field.\n",
    "for user_doc in users_docs:\n",
    "  # Get the document data as a dictionary.\n",
    "  user_data = user_doc.to_dict()\n",
    "\n",
    "  # Get the name field from the data.\n",
    "  user_name = user_data.get(\"name\")\n",
    "\n",
    "  # Print the name field.\n",
    "  #print(user_name)\n",
    "\n",
    "  # Encrypt the name field with Fernet.\n",
    "  encrypted_user_name = f.encrypt(user_name.encode())\n",
    "  #print(encrypted_user_name)\n",
    "\n",
    "  # Update the document with the encrypted name field.\n",
    "  user_doc.reference.update({\"encrypted_user_name\": encrypted_user_name})\n",
    "\n"
   ]
  },
  {
   "cell_type": "code",
   "execution_count": null,
   "metadata": {},
   "outputs": [],
   "source": []
  }
 ],
 "metadata": {
  "kernelspec": {
   "display_name": "Python 3",
   "language": "python",
   "name": "python3"
  },
  "language_info": {
   "codemirror_mode": {
    "name": "ipython",
    "version": 3
   },
   "file_extension": ".py",
   "mimetype": "text/x-python",
   "name": "python",
   "nbconvert_exporter": "python",
   "pygments_lexer": "ipython3",
   "version": "3.10.6"
  },
  "orig_nbformat": 4
 },
 "nbformat": 4,
 "nbformat_minor": 2
}
