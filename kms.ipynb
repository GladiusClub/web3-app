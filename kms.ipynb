{
 "cells": [
  {
   "attachments": {},
   "cell_type": "markdown",
   "metadata": {},
   "source": [
    "# Save user private key in GCP KMS\n",
    "\n",
    "#### Step 1. Activate Cloud Key Management Service (KMS) API\n",
    "https://console.cloud.google.com/marketplace/product/google/cloudkms.googleapis.com"
   ]
  },
  {
   "attachments": {},
   "cell_type": "markdown",
   "metadata": {},
   "source": [
    "#### Step 2. Create a Google service account that has the role of Cloud KMS Admin\n",
    "https://console.cloud.google.com/iam-admin/serviceaccounts\n",
    "\n",
    "Generate and download a private key for the service account in JSON format"
   ]
  },
  {
   "attachments": {},
   "cell_type": "markdown",
   "metadata": {},
   "source": [
    "#### Step 2. Install KMS client lib\n",
    "\n",
    "pip install google-cloud-kms"
   ]
  },
  {
   "attachments": {},
   "cell_type": "markdown",
   "metadata": {},
   "source": [
    "#### Step 3. Connect to KMS"
   ]
  },
  {
   "cell_type": "code",
   "execution_count": 2,
   "metadata": {},
   "outputs": [],
   "source": [
    "from google.cloud import kms\n",
    "from google.oauth2 import service_account"
   ]
  },
  {
   "cell_type": "code",
   "execution_count": 34,
   "metadata": {},
   "outputs": [],
   "source": [
    "# SERVICE_ACCOUNT_FILE = '../firebase-adminsdk.json'\n",
    "SERVICE_ACCOUNT_FILE = '../kms-admin.json'\n",
    "\n",
    "project_id = 'wallet-login-45c1c'"
   ]
  },
  {
   "cell_type": "code",
   "execution_count": 36,
   "metadata": {},
   "outputs": [],
   "source": [
    "\n",
    "# Create the credentials object from the service account file.\n",
    "credentials = service_account.Credentials.from_service_account_file(SERVICE_ACCOUNT_FILE)\n",
    "\n",
    "# Create the client with the credentials.\n",
    "client = kms.KeyManagementServiceClient(credentials=credentials)\n"
   ]
  },
  {
   "attachments": {},
   "cell_type": "markdown",
   "metadata": {},
   "source": [
    "create a key ring, a key, and a key version. You can specify the name of the key when you create it. \n",
    "For example, you can use the following code to create a symmetric encryption key named my-key in a key ring named my-key-ring in the global location"
   ]
  },
  {
   "cell_type": "code",
   "execution_count": null,
   "metadata": {},
   "outputs": [],
   "source": [
    "\n",
    "\n",
    "# Build the parent name from the project and location.\n",
    "parent = f\"projects/{project_id}/locations/global\"\n",
    "\n",
    "# Build the key ring name.\n",
    "key_ring_name = f\"{parent}/keyRings/my-key-ring\"\n",
    "\n",
    "# Build the key name.\n",
    "key_name = f\"{key_ring_name}/cryptoKeys/my-key\"\n",
    "\n",
    "# Create the key ring.\n",
    "key_ring = {}\n",
    "client.create_key_ring(request={\"parent\": parent, \"key_ring_id\": \"my-key-ring\", \"key_ring\": key_ring})\n",
    "\n",
    "# Create the key.\n",
    "purpose = kms.CryptoKey.CryptoKeyPurpose.ENCRYPT_DECRYPT\n",
    "crypto_key = {\"purpose\": purpose}\n",
    "client.create_crypto_key(request={\"parent\": key_ring_name, \"crypto_key_id\": \"my-key\", \"crypto_key\": crypto_key})\n"
   ]
  },
  {
   "attachments": {},
   "cell_type": "markdown",
   "metadata": {},
   "source": [
    "You can use the client library to encrypt and decrypt data with the key you created. For example, you can use the following code to encrypt and decrypt a message using my-key"
   ]
  },
  {
   "cell_type": "code",
   "execution_count": 39,
   "metadata": {},
   "outputs": [
    {
     "name": "stdout",
     "output_type": "stream",
     "text": [
      "b'\\n$\\x00\\x17ax<;\\xdaDL\\x10\\xf6y\\xcfu\\xdd\\xa3 \\x85\\xda1iS\\xfdVv\\xbb\\x81~\\xfa\\x02\\xc9\\x9903\\x1bW\\x127\\x00T\\xe6\\xeb<|\\x17\\xdb+\\xa4\\n\\x0fU\\x12\\x1f\\xee\\x7f\\xa3,s\\xc8A\\x90\\xb9$\\x7f\\x83p\\xf0\\xd3\\xcct\\xdd\\x91\\xe8\\x94\\x9a@\\x8b\\xd3\\xc8\\x8f\\x0fP(\\x13\\x8b\\x12x\\xb0-\\xd2\\x9e\\xc3\\x90'\n"
     ]
    }
   ],
   "source": [
    "\n",
    "# Build the key name.\n",
    "key_name = f\"projects/{project_id}/locations/global/keyRings/my-key-ring/cryptoKeys/my-key\"\n",
    "\n",
    "# The message to encrypt.\n",
    "message = b\"Hello Gladius!\"\n",
    "\n",
    "# Encrypt the message.\n",
    "response = client.encrypt(request={\"name\": key_name, \"plaintext\": message})\n",
    "ciphertext = response.ciphertext\n",
    "\n",
    "print(ciphertext)"
   ]
  },
  {
   "cell_type": "code",
   "execution_count": 38,
   "metadata": {},
   "outputs": [
    {
     "name": "stdout",
     "output_type": "stream",
     "text": [
      "b'Hello Gladius!'\n"
     ]
    }
   ],
   "source": [
    "\n",
    "# Decrypt the message.\n",
    "response = client.decrypt(request={\"name\": key_name, \"ciphertext\": ciphertext})\n",
    "plaintext = response.plaintext\n",
    "\n",
    "print(plaintext)\n",
    "\n",
    "# Verify that the decrypted message matches the original message.\n",
    "# assert plaintext == message"
   ]
  },
  {
   "attachments": {},
   "cell_type": "markdown",
   "metadata": {},
   "source": [
    "Use the Firebase SDK for Cloud Functions to create a function that uses the encrypted user private key.\n",
    "https://stackoverflow.com/questions/63248432/how-to-encrypt-and-securely-store-and-transmit-private-keys-of-ssh\n",
    "You can use any trigger type that suits your use case, such as HTTP, Firestore, Storage, etc. For example, you can use the following code to create a Firestore trigger that encrypts the user private key when a new user document is created"
   ]
  },
  {
   "cell_type": "code",
   "execution_count": null,
   "metadata": {},
   "outputs": [],
   "source": [
    "# NOT WORKING\n",
    "\n",
    "from firebase_admin import firestore\n",
    "from firebase_functions import event_handler\n",
    "\n",
    "\n",
    "# Initialize Firebase app with admin privileges.\n",
    "\n",
    "if not firebase_admin._apps:\n",
    "    cred = credentials.Certificate(\"../firebase-adminsdk.json\")\n",
    "    default_app = firebase_admin.initialize_app(cred)\n",
    "# Get a reference to the firestore database\n",
    "db = firestore.client()\n",
    "\n",
    "\n",
    "app = firestore.initialize_app()\n",
    "\n",
    "# Get a reference to the Firestore service.\n",
    "db = firestore.client()\n",
    "\n",
    "# Define a function that encrypts the user private key when a new user document is created in Firestore.\n",
    "@event_handler.on_document_created(reference=\"/users/{user_id}\")\n",
    "\n",
    "def encrypt_user_private_key(event):\n",
    "  # Get the user ID from the event parameters.\n",
    "  user_id = event.params.get(\"user_id\")\n",
    "\n",
    "  # Get the user private key from the event data.\n",
    "  user_private_key = event.data.data().get(\"private_key\")\n",
    "\n",
    "  # Encrypt the user private key with Google KMS.\n",
    "  response = client.encrypt(request={\"name\": key_name, \"plaintext\": user_private_key})\n",
    "  encrypted_user_private_key = response.ciphertext\n",
    "\n",
    "  # Update the user document with the encrypted user private key.\n",
    "  db.collection(\"users\").document(user_id).update({\"private_key\": encrypted_user_private_key})\n"
   ]
  },
  {
   "attachments": {},
   "cell_type": "markdown",
   "metadata": {},
   "source": [
    "### firebase save user private key in GCP KMS on create user event"
   ]
  },
  {
   "cell_type": "code",
   "execution_count": 29,
   "metadata": {},
   "outputs": [],
   "source": [
    "import firebase_admin\n",
    "from firebase_admin import auth, credentials, firestore\n",
    "\n",
    "#from google.cloud import kms_v1\n",
    "from google.cloud import kms\n",
    "from google.oauth2 import service_account\n"
   ]
  },
  {
   "cell_type": "code",
   "execution_count": null,
   "metadata": {},
   "outputs": [],
   "source": [
    "# SERVICE_ACCOUNT_FILE = '../firebase-adminsdk.json'\n",
    "SERVICE_ACCOUNT_FILE = '../kms-admin.json'\n",
    "\n",
    "project_id = 'wallet-login-45c1c'"
   ]
  },
  {
   "cell_type": "code",
   "execution_count": 30,
   "metadata": {},
   "outputs": [],
   "source": [
    "if not firebase_admin._apps:\n",
    "    cred = credentials.Certificate(\"../firebase-adminsdk.json\")\n",
    "    default_app = firebase_admin.initialize_app(cred)\n",
    "# Get a reference to the firestore database\n",
    "db = firestore.client()"
   ]
  },
  {
   "cell_type": "code",
   "execution_count": 32,
   "metadata": {},
   "outputs": [],
   "source": [
    "\n",
    "def generate_private_key():\n",
    "    # Generate or retrieve the private key for the user\n",
    "    # You can implement your logic here to generate or retrieve the private key\n",
    "    private_key = \"USER_PRIVATE_KEY\"\n",
    "    return private_key\n",
    "\n",
    "\n",
    "# Create a Firebase Auth user creation event handler.\n",
    "\n",
    " \n",
    "def create_user(event):\n",
    "    # Get the user's UID from the event data\n",
    "    uid = event.uid\n",
    "\n",
    "    # Generate or retrieve the user's private key\n",
    "    private_key = generate_private_key()\n",
    "\n",
    "    # Encrypt the private key using Google KMS\n",
    "    encrypted_private_key = encrypt_private_key(private_key)\n",
    "\n",
    "    # Save the encrypted private key in Firestore\n",
    "    save_encrypted_private_key(uid, encrypted_private_key)\n",
    "\n",
    "\n",
    "# Implement the encrypt_private_key() function to encrypt the private key using Google KMS.\n",
    "\n",
    "\n",
    "def encrypt_private_key(private_key):\n",
    "\n",
    "    # Build the key name.\n",
    "    key_name = f\"projects/{project_id}/locations/global/keyRings/my-key-ring/cryptoKeys/my-key\"\n",
    "\n",
    "\n",
    "    # Convert the private key to bytes\n",
    "    private_key_bytes = private_key.encode('utf-8')\n",
    "\n",
    "    # Prepare the request\n",
    "    request = {\n",
    "        'name': key_name,\n",
    "        'plaintext': private_key_bytes,\n",
    "    }\n",
    "\n",
    "    # Call the encrypt API\n",
    "    response = client.encrypt(request)\n",
    "\n",
    "    # Retrieve the encrypted ciphertext\n",
    "    encrypted_private_key = response.ciphertext\n",
    "    return encrypted_private_key\n",
    "\n",
    "\n",
    "\n",
    "def save_encrypted_private_key(uid, encrypted_private_key):\n",
    "    # Define the document reference for the user\n",
    "    doc_ref = db.collection('users').document(uid)\n",
    "\n",
    "    # Update the document with the encrypted private key\n",
    "    doc_ref.update({'encrypted_private_key': encrypted_private_key})\n",
    "\n"
   ]
  },
  {
   "cell_type": "code",
   "execution_count": null,
   "metadata": {},
   "outputs": [],
   "source": []
  }
 ],
 "metadata": {
  "kernelspec": {
   "display_name": "Python 3",
   "language": "python",
   "name": "python3"
  },
  "language_info": {
   "codemirror_mode": {
    "name": "ipython",
    "version": 3
   },
   "file_extension": ".py",
   "mimetype": "text/x-python",
   "name": "python",
   "nbconvert_exporter": "python",
   "pygments_lexer": "ipython3",
   "version": "3.10.6"
  },
  "orig_nbformat": 4
 },
 "nbformat": 4,
 "nbformat_minor": 2
}
