{
 "cells": [
  {
   "attachments": {},
   "cell_type": "markdown",
   "metadata": {},
   "source": [
    "# The Gladius Data Model"
   ]
  },
  {
   "attachments": {},
   "cell_type": "markdown",
   "metadata": {},
   "source": [
    "### Data Model Structure"
   ]
  },
  {
   "attachments": {},
   "cell_type": "markdown",
   "metadata": {},
   "source": [
    "\n",
    "Collection: \"clubs\"\n",
    "\n",
    "Document: \"club_id\"\n",
    "Club data fields\n",
    "Sub-collection: \"events\"\n",
    "Document: \"event_id\"\n",
    "Event data fields\n",
    "Sub-collection: \"occurrences\"\n",
    "Document: \"occurrence_id\"\n",
    "Occurrence data fields\n",
    "Sub-collection: \"attendance\"\n",
    "Document: \"attendance_id\"\n",
    "Field: \"user_id\" (to reference the attending user)\n",
    "Field: \"score\" (record the score for the user at this occurrence)\n",
    "\n",
    "Collection: \"users\"\n",
    "\n",
    "Document: \"user_id\"\n",
    "User data fields\n",
    "Sub-collection: \"scores\"\n",
    "Document: \"score_id\"\n",
    "Field: \"club_id\" (to reference the club)\n",
    "Field: \"event_id\" (to reference the event)\n",
    "Field: \"occurrence_id\" (to reference the occurrence)\n",
    "Field: \"score\" (the user's score for this event occurrence)\n"
   ]
  },
  {
   "cell_type": "code",
   "execution_count": 37,
   "metadata": {},
   "outputs": [],
   "source": [
    "# Installs\n",
    "#!pip install firebase-admin"
   ]
  },
  {
   "cell_type": "code",
   "execution_count": null,
   "metadata": {},
   "outputs": [],
   "source": [
    "\n",
    "# Import firebase_admin and initialize the app\n",
    "import firebase_admin\n",
    "from firebase_admin import auth, credentials, firestore\n",
    "import random\n"
   ]
  },
  {
   "attachments": {},
   "cell_type": "markdown",
   "metadata": {},
   "source": [
    "Authentication"
   ]
  },
  {
   "cell_type": "code",
   "execution_count": null,
   "metadata": {},
   "outputs": [],
   "source": [
    "if not firebase_admin._apps:\n",
    "    cred = credentials.Certificate(\"../firebase-adminsdk.json\")\n",
    "    default_app = firebase_admin.initialize_app(cred)\n",
    "# Get a reference to the firestore database\n",
    "db = firestore.client()"
   ]
  },
  {
   "attachments": {},
   "cell_type": "markdown",
   "metadata": {},
   "source": [
    "# Create users with authentication"
   ]
  },
  {
   "attachments": {},
   "cell_type": "markdown",
   "metadata": {},
   "source": [
    "### Delete all auth users"
   ]
  },
  {
   "cell_type": "code",
   "execution_count": 27,
   "metadata": {},
   "outputs": [
    {
     "name": "stdout",
     "output_type": "stream",
     "text": [
      "Deleted user: 7DtR60Mjc7WH3phO6LGSkK3buei2\n",
      "Deleted user: HyU4ZLPLPYUH8ir8ukl4qSwVrqO2\n",
      "Deleted user: IfXh2ortOCZmr8q7WuZujxwrQFj1\n",
      "Deleted user: JZtbBhFRmChzoqlIeUu9lPLWwHO2\n",
      "Deleted user: K5PvdXF6A8ZqFfze37owXIIoYKO2\n",
      "Deleted user: ROJY5RdB78dfl9QQrrriBpUl1cX2\n",
      "Deleted user: SJcM2b9fwQZfpFGOaiLYX6IQwQj2\n",
      "Deleted user: X0wR2xjZ5xN6RZEG88dwyE1LUZh2\n",
      "Deleted user: aYqGWD5vJPRx9yuJx6IX92664ZJ2\n",
      "Deleted user: bjeTJCEg6Uhv7iuvWa10qBNDPVb2\n",
      "Deleted user: yqFab2OtYeP7uwBh8Ocl010bv132\n",
      "All users have been deleted.\n"
     ]
    }
   ],
   "source": [
    "user_list = auth.list_users()\n",
    "\n",
    "# Iterate over each user and delete them\n",
    "for user in user_list.users:\n",
    "    auth.delete_user(user.uid)\n",
    "    print(f\"Deleted user: {user.uid}\")\n",
    "\n",
    "print(\"All users have been deleted.\")"
   ]
  },
  {
   "attachments": {},
   "cell_type": "markdown",
   "metadata": {},
   "source": [
    "### Create new auth users"
   ]
  },
  {
   "cell_type": "code",
   "execution_count": 28,
   "metadata": {},
   "outputs": [
    {
     "name": "stdout",
     "output_type": "stream",
     "text": [
      "Successfully created new user: QOOc8hZLVrP0965Uh6pSSVd24Jf2\n",
      "Successfully created new user: NeUlhJOHrYf9wJ4pUqAUhOxft7E2\n",
      "Successfully created new user: BDUFoR5dM0eIsNQ4tDe9ixEQGgR2\n",
      "Successfully created new user: 5Vu5WYh8ypRNE77xvzNr4IPYQwS2\n",
      "Successfully created new user: Z7SPsuiRCyewNItseSRx2BbxAah1\n",
      "Successfully created new user: BLpUXWzidWezz2XpFCAABUbzvpL2\n",
      "Successfully created new user: efNgErA6oxZAZS2IcV2riYHQlJL2\n",
      "Successfully created new user: HvA1ZUXS5Rcekb9QiuC2oyAgx7E3\n",
      "Successfully created new user: 63Ni3tgHZNQNpZMJPJCnaUXgBUI2\n",
      "Successfully created new user: PlOydoMjIch5K6rVUszQmlKwIG83\n",
      "Successfully created new user: SOMzKHrZ5ThGIKUsGjofNzYcLIE2\n"
     ]
    }
   ],
   "source": [
    "# Create a list of users to add\n",
    "users = [\"Mare\", \"Jüri\", \"Liisa\", \"Mart\", \"Evelin\", \"Tõnis\", \"Mari\", \"Henrik\", \"Triin\", \"Jaak\", 'Bob']\n",
    "\n",
    "\n",
    "user_uuids = {}\n",
    "# Loop through the users and create them with a default password\n",
    "for user in users:\n",
    "  try:\n",
    "    # Create the user with the email and password\n",
    "    user_record = auth.create_user(\n",
    "      email=f'{user.lower()}@example.com',\n",
    "      password='123456'\n",
    "    )\n",
    "    user_uuids[user] = user_record.uid\n",
    "    # Print the user ID\n",
    "    print(f'Successfully created new user: {user_record.uid}')\n",
    "  except firebase_admin.auth.AuthError as e:\n",
    "    # Handle any errors\n",
    "    print(f'Error creating new user: {e}')"
   ]
  },
  {
   "attachments": {},
   "cell_type": "markdown",
   "metadata": {},
   "source": [
    "### Delete user collection"
   ]
  },
  {
   "cell_type": "code",
   "execution_count": 35,
   "metadata": {},
   "outputs": [
    {
     "name": "stdout",
     "output_type": "stream",
     "text": [
      "Users collection deleted successfully.\n"
     ]
    }
   ],
   "source": [
    "## Delete user collection\n",
    "# Function to delete a collection and its documents\n",
    "def delete_collection(collection_ref, batch_size):\n",
    "    docs = collection_ref.limit(batch_size).stream()\n",
    "    deleted = 0\n",
    "\n",
    "    for doc in docs:\n",
    "        doc.reference.delete()\n",
    "        deleted += 1\n",
    "\n",
    "    if deleted >= batch_size:\n",
    "        return delete_collection(collection_ref, batch_size)\n",
    "\n",
    "# Specify the \"users\" collection to be deleted\n",
    "users_collection_ref = db.collection(\"users\")\n",
    "\n",
    "# Delete the \"users\" collection and its documents\n",
    "delete_collection(users_collection_ref, 500)\n",
    "\n",
    "print(\"Users collection deleted successfully.\")"
   ]
  },
  {
   "attachments": {},
   "cell_type": "markdown",
   "metadata": {},
   "source": [
    "## Add users collection"
   ]
  },
  {
   "cell_type": "code",
   "execution_count": 29,
   "metadata": {},
   "outputs": [
    {
     "name": "stdout",
     "output_type": "stream",
     "text": [
      "Successfully created user: QOOc8hZLVrP0965Uh6pSSVd24Jf2\n",
      "Successfully created user: NeUlhJOHrYf9wJ4pUqAUhOxft7E2\n",
      "Successfully created user: BDUFoR5dM0eIsNQ4tDe9ixEQGgR2\n",
      "Successfully created user: 5Vu5WYh8ypRNE77xvzNr4IPYQwS2\n",
      "Successfully created user: Z7SPsuiRCyewNItseSRx2BbxAah1\n",
      "Successfully created user: BLpUXWzidWezz2XpFCAABUbzvpL2\n",
      "Successfully created user: efNgErA6oxZAZS2IcV2riYHQlJL2\n",
      "Successfully created user: HvA1ZUXS5Rcekb9QiuC2oyAgx7E3\n",
      "Successfully created user: 63Ni3tgHZNQNpZMJPJCnaUXgBUI2\n",
      "Successfully created user: PlOydoMjIch5K6rVUszQmlKwIG83\n",
      "Successfully created user: SOMzKHrZ5ThGIKUsGjofNzYcLIE2\n"
     ]
    }
   ],
   "source": [
    "# Create a collection for users\n",
    "users_collection = db.collection(\"users\")\n",
    "\n",
    "user_roles = {}\n",
    "\n",
    "# Loop through the users and add them to the \"users\" collection\n",
    "for user in users:\n",
    "    age = random.randint(18, 60)\n",
    "    email = f\"{user.lower()}@example.com\"\n",
    "    occupation = random.choice([\"Student\", \"Engineer\", \"Teacher\", \"Artist\"])\n",
    "\n",
    "\n",
    "for user in users:\n",
    "\n",
    "    # Assign roles for each user in different clubs\n",
    "    if user in [\"Bob\", \"Mare\"]:\n",
    "        user_roles[user_uuids[user]] = {\"club_id\": \"1\", \"role\": \"owner\"}\n",
    "    else:\n",
    "        user_roles[user_uuids[user]] = {\"club_id\": \"1\", \"role\": \"athlete\"}\n",
    "\n",
    "    user_data = {\n",
    "        \"name\": user,\n",
    "        \"email\": f\"{user.lower()}@example.com\",\n",
    "        \"age\": random.randint(18, 60),\n",
    "        \"occupation\": random.choice([\"Student\", \"Engineer\", \"Teacher\", \"Artist\"]),\n",
    "        \"is_active\": random.choice([True, False]),\n",
    "    }\n",
    "\n",
    "    user_ref = users_collection.document(user_uuids[user])\n",
    "    user_ref.set(user_data)\n",
    "    print(f\"Successfully created user: {user_uuids[user]}\")"
   ]
  },
  {
   "attachments": {},
   "cell_type": "markdown",
   "metadata": {},
   "source": [
    "## Delete Club collection"
   ]
  },
  {
   "cell_type": "code",
   "execution_count": 36,
   "metadata": {},
   "outputs": [
    {
     "name": "stdout",
     "output_type": "stream",
     "text": [
      "Clubs collection deleted successfully.\n"
     ]
    }
   ],
   "source": [
    "## Delete user collection\n",
    "# Function to delete a collection and its documents\n",
    "def delete_collection(collection_ref, batch_size):\n",
    "    docs = collection_ref.limit(batch_size).stream()\n",
    "    deleted = 0\n",
    "\n",
    "    for doc in docs:\n",
    "        doc.reference.delete()\n",
    "        deleted += 1\n",
    "\n",
    "    if deleted >= batch_size:\n",
    "        return delete_collection(collection_ref, batch_size)\n",
    "\n",
    "# Specify the \"users\" collection to be deleted\n",
    "users_collection_ref = db.collection(\"clubs\")\n",
    "\n",
    "# Delete the \"users\" collection and its documents\n",
    "delete_collection(users_collection_ref, 500)\n",
    "\n",
    "print(\"Clubs collection deleted successfully.\")"
   ]
  },
  {
   "attachments": {},
   "cell_type": "markdown",
   "metadata": {},
   "source": [
    "## Add club collection"
   ]
  },
  {
   "cell_type": "code",
   "execution_count": 33,
   "metadata": {},
   "outputs": [
    {
     "data": {
      "text/plain": [
       "update_time {\n",
       "  seconds: 1687370976\n",
       "  nanos: 378830000\n",
       "}"
      ]
     },
     "execution_count": 33,
     "metadata": {},
     "output_type": "execute_result"
    }
   ],
   "source": [
    "\n",
    "# Create a collection for clubs\n",
    "clubs = db.collection(\"clubs\")\n",
    "\n",
    "# Create a document for a club with some data fields\n",
    "club_id = '1'\n",
    "club_data = {\n",
    "    \"name\": \"Gladius Club\",\n",
    "    \"description\": \"A Learn to Earn Club\",\n",
    "    \"owners\": [user_uuid for user_uuid, role in user_roles.items() if role[\"club_id\"] == \"1\" and role[\"role\"] == \"owner\"],\n",
    "    \"athletes\": [user_uuid for user_uuid, role in user_roles.items() if role[\"club_id\"] == \"1\"],\n",
    "\n",
    "}\n",
    "club_ref = clubs.document(club_id)\n",
    "club_ref.set(club_data)\n"
   ]
  },
  {
   "attachments": {},
   "cell_type": "markdown",
   "metadata": {},
   "source": [
    "### TODO: Add events to clubs"
   ]
  },
  {
   "cell_type": "code",
   "execution_count": null,
   "metadata": {},
   "outputs": [
    {
     "data": {
      "text/plain": [
       "update_time {\n",
       "  seconds: 1687370617\n",
       "  nanos: 317941000\n",
       "}"
      ]
     },
     "execution_count": 24,
     "metadata": {},
     "output_type": "execute_result"
    }
   ],
   "source": [
    "# Create a sub-collection for events under the club document\n",
    "events = club_ref.collection(\"events\")\n",
    "\n",
    "# Create a document for an event with some data fields\n",
    "event_id = \"456\"\n",
    "event_data = {\n",
    "    \"title\": \"Fencing Tournament\",\n",
    "    \"date\": \"2023-06-30\",\n",
    "    \"location\": \"Gladius Arena\"\n",
    "}\n",
    "event_ref = events.document(event_id)\n",
    "event_ref.set(event_data)\n",
    "\n",
    "# Create a sub-collection for occurrences under the event document\n",
    "occurrences = event_ref.collection(\"occurrences\")\n",
    "\n",
    "# Create a document for an occurrence with some data fields\n",
    "occurrence_id = \"789\"\n",
    "occurrence_data = {\n",
    "    \"start_time\": \"14:00\",\n",
    "    \"end_time\": \"16:00\",\n",
    "    \"participants\": [\"Alice\", \"Bob\"]\n",
    "}\n",
    "occurrence_ref = occurrences.document(occurrence_id)\n",
    "occurrence_ref.set(occurrence_data)\n",
    "\n",
    "# Create a sub-collection for attendance under the occurrence document\n",
    "attendance = occurrence_ref.collection(\"attendance\")\n",
    "\n",
    "# Create a document for an attendance with some data fields\n",
    "attendance_id = \"1011\"\n",
    "attendance_data = {\n",
    "    \"name\": \"Alice\",\n",
    "    \"score\": 3\n",
    "}\n",
    "attendance_ref = attendance.document(attendance_id)\n",
    "attendance_ref.set(attendance_data)"
   ]
  }
 ],
 "metadata": {
  "kernelspec": {
   "display_name": "base",
   "language": "python",
   "name": "python3"
  },
  "language_info": {
   "codemirror_mode": {
    "name": "ipython",
    "version": 3
   },
   "file_extension": ".py",
   "mimetype": "text/x-python",
   "name": "python",
   "nbconvert_exporter": "python",
   "pygments_lexer": "ipython3",
   "version": "3.9.6"
  },
  "orig_nbformat": 4
 },
 "nbformat": 4,
 "nbformat_minor": 2
}
