{
 "cells": [
  {
   "attachments": {},
   "cell_type": "markdown",
   "metadata": {},
   "source": [
    "Collection: \"clubs\"\n",
    "\n",
    "Document: \"club_id\"\n",
    "Club data fields\n",
    "Sub-collection: \"events\"\n",
    "Document: \"event_id\"\n",
    "Event data fields\n",
    "Sub-collection: \"occurrences\"\n",
    "Document: \"occurrence_id\"\n",
    "Occurrence data fields\n",
    "Sub-collection: \"attendance\"\n",
    "Document: \"attendance_id\"\n",
    "Field: \"user_id\" (to reference the attending user)\n",
    "Field: \"score\" (record the score for the user at this occurrence)\n",
    "\n",
    "Collection: \"users\"\n",
    "\n",
    "Document: \"user_id\"\n",
    "User data fields\n",
    "Sub-collection: \"scores\"\n",
    "Document: \"score_id\"\n",
    "Field: \"club_id\" (to reference the club)\n",
    "Field: \"event_id\" (to reference the event)\n",
    "Field: \"occurrence_id\" (to reference the occurrence)\n",
    "Field: \"score\" (the user's score for this event occurrence)"
   ]
  },
  {
   "cell_type": "code",
   "execution_count": 1,
   "metadata": {},
   "outputs": [],
   "source": [
    "# Import firebase_admin and initialize the app\n",
    "import firebase_admin\n",
    "from firebase_admin import credentials, firestore\n",
    "\n"
   ]
  },
  {
   "attachments": {},
   "cell_type": "markdown",
   "metadata": {},
   "source": [
    "Add club"
   ]
  },
  {
   "cell_type": "code",
   "execution_count": 4,
   "metadata": {},
   "outputs": [
    {
     "data": {
      "text/plain": [
       "update_time {\n",
       "  seconds: 1686943738\n",
       "  nanos: 866725000\n",
       "}"
      ]
     },
     "execution_count": 4,
     "metadata": {},
     "output_type": "execute_result"
    }
   ],
   "source": [
    "cred = credentials.Certificate(\"firebase-adminsdk.json\")\n",
    "firebase_admin.initialize_app(cred)\n",
    "\n",
    "# Get a reference to the firestore database\n",
    "db = firestore.client()\n",
    "\n",
    "# Create a collection for clubs\n",
    "clubs = db.collection(\"clubs\")\n",
    "\n",
    "# Create a document for a club with some data fields\n",
    "club_id = \"123\"\n",
    "club_data = {\n",
    "    \"name\": \"Chess Club\",\n",
    "    \"description\": \"A club for chess enthusiasts\",\n",
    "    \"members\": [\"Alice\", \"Bob\", \"Charlie\"]\n",
    "}\n",
    "club_ref = clubs.document(club_id)\n",
    "club_ref.set(club_data)\n",
    "\n",
    "# Create a sub-collection for events under the club document\n",
    "events = club_ref.collection(\"events\")\n",
    "\n",
    "# Create a document for an event with some data fields\n",
    "event_id = \"456\"\n",
    "event_data = {\n",
    "    \"title\": \"Chess Tournament\",\n",
    "    \"date\": \"2023-06-30\",\n",
    "    \"location\": \"Library\"\n",
    "}\n",
    "event_ref = events.document(event_id)\n",
    "event_ref.set(event_data)\n",
    "\n",
    "# Create a sub-collection for occurrences under the event document\n",
    "occurrences = event_ref.collection(\"occurrences\")\n",
    "\n",
    "# Create a document for an occurrence with some data fields\n",
    "occurrence_id = \"789\"\n",
    "occurrence_data = {\n",
    "    \"start_time\": \"14:00\",\n",
    "    \"end_time\": \"16:00\",\n",
    "    \"participants\": [\"Alice\", \"Bob\"]\n",
    "}\n",
    "occurrence_ref = occurrences.document(occurrence_id)\n",
    "occurrence_ref.set(occurrence_data)\n",
    "\n",
    "# Create a sub-collection for attendance under the occurrence document\n",
    "attendance = occurrence_ref.collection(\"attendance\")\n",
    "\n",
    "# Create a document for an attendance with some data fields\n",
    "attendance_id = \"1011\"\n",
    "attendance_data = {\n",
    "    \"user_id\": \"Alice\",\n",
    "    \"score\": 3\n",
    "}\n",
    "attendance_ref = attendance.document(attendance_id)\n",
    "attendance_ref.set(attendance_data)"
   ]
  },
  {
   "attachments": {},
   "cell_type": "markdown",
   "metadata": {},
   "source": [
    "Populate users data"
   ]
  },
  {
   "attachments": {},
   "cell_type": "markdown",
   "metadata": {},
   "source": [
    "Add one user\n"
   ]
  },
  {
   "cell_type": "code",
   "execution_count": 4,
   "metadata": {},
   "outputs": [
    {
     "data": {
      "text/plain": [
       "update_time {\n",
       "  seconds: 1686947324\n",
       "  nanos: 409355000\n",
       "}"
      ]
     },
     "execution_count": 4,
     "metadata": {},
     "output_type": "execute_result"
    }
   ],
   "source": [
    "#cred = credentials.Certificate(\"firebase-adminsdk.json\")\n",
    "#firebase_admin.initialize_app(cred)\n",
    "\n",
    "if not firebase_admin._apps:\n",
    "    cred = credentials.Certificate(\"firebase-adminsdk.json\")\n",
    "    default_app = firebase_admin.initialize_app(cred\n",
    ")\n",
    "\n",
    "\n",
    "# Get a reference to the firestore database\n",
    "db = firestore.client()\n",
    "\n",
    "# Create a collection for users\n",
    "users = db.collection(\"users\")\n",
    "\n",
    "# Create a document for a user with some data fields\n",
    "user_id = \"Bob\"\n",
    "user_data = {\n",
    "    \"name\": \"Bob\",\n",
    "    \"email\": \"Bob@bob.com\",\n",
    "    \"age\": 25\n",
    "}\n",
    "user_ref = users.document(user_id)\n",
    "user_ref.set(user_data)\n",
    "\n",
    "# Create a sub-collection for scores under the user document\n",
    "scores = user_ref.collection(\"scores\")\n",
    "\n",
    "# Create a document for a score with some data fields\n",
    "score_id = \"1213\"\n",
    "score_data = {\n",
    "    \"club_id\": \"123\",\n",
    "    \"event_id\": \"456\",\n",
    "    \"occurrence_id\": \"789\",\n",
    "    \"score\": 3\n",
    "}\n",
    "score_ref = scores.document(score_id)\n",
    "score_ref.set(score_data)\n"
   ]
  },
  {
   "attachments": {},
   "cell_type": "markdown",
   "metadata": {},
   "source": [
    "Delete users collection"
   ]
  },
  {
   "cell_type": "code",
   "execution_count": 5,
   "metadata": {},
   "outputs": [
    {
     "data": {
      "text/plain": [
       "[]"
      ]
     },
     "execution_count": 5,
     "metadata": {},
     "output_type": "execute_result"
    }
   ],
   "source": [
    "# NOT DOING ANYTHING\n",
    "# Get a reference to the collection of users\n",
    "users = db.collection(\"users\")\n",
    "\n",
    "# Delete the collection of users by deleting each document in a batch\n",
    "batch = db.batch()\n",
    "for doc in users.stream():\n",
    "    batch.delete(doc.reference)\n",
    "batch.commit()"
   ]
  },
  {
   "attachments": {},
   "cell_type": "markdown",
   "metadata": {},
   "source": [
    "Import fake data"
   ]
  },
  {
   "cell_type": "code",
   "execution_count": 6,
   "metadata": {},
   "outputs": [],
   "source": [
    "import firebase_admin\n",
    "from firebase_admin import credentials, firestore\n",
    "import random\n",
    "\n",
    "# Initialize the app with a service account and the database URL\n",
    "if not firebase_admin._apps:\n",
    "    cred = credentials.Certificate(\"firebase-adminsdk.json\")\n",
    "    default_app = firebase_admin.initialize_app(cred)\n",
    "\n",
    "# Get a reference to the firestore database\n",
    "db = firestore.client()\n",
    "\n",
    "# Get a reference to the users collection\n",
    "users = db.collection(\"users\")\n",
    "\n",
    "# Generate some random user data\n",
    "names = [\"Alice\", \"Bob\", \"Charlie\", \"David\", \"Eve\", \"Frank\", \"Grace\", \"Harry\", \"Ivy\", \"Jack\"]\n",
    "ages = [random.randint(18, 40) for _ in range(10)]\n",
    "emails = [name.lower() + \"@example.com\" for name in names]\n",
    "\n",
    "# Loop through the user data and set them under a unique document ID\n",
    "for i in range(10):\n",
    "    user_id = names[i] # Use the name as the document ID\n",
    "    user_data = {\n",
    "        \"name\": names[i],\n",
    "        \"email\": emails[i],\n",
    "        \"age\": ages[i]\n",
    "    }\n",
    "    user_ref = users.document(user_id)\n",
    "    user_ref.set(user_data)\n",
    "\n",
    "    # Create a sub-collection for scores under the user document\n",
    "    scores = user_ref.collection(\"scores\")\n",
    "\n",
    "    # Create a document for a score with some data fields\n",
    "    score_id = str(random.randint(1000, 9999)) # Generate a random score ID\n",
    "    score_data = {\n",
    "        \"club_id\": str(random.randint(100, 999)), # Generate a random club ID\n",
    "        \"event_id\": str(random.randint(100, 999)), # Generate a random event ID\n",
    "        \"occurrence_id\": str(random.randint(100, 999)), # Generate a random occurrence ID\n",
    "        \"score\": random.randint(1, 5) # Generate a random score between 1 and 5\n",
    "    }\n",
    "    score_ref = scores.document(score_id)\n",
    "    score_ref.set(score_data)\n"
   ]
  },
  {
   "cell_type": "code",
   "execution_count": 3,
   "metadata": {},
   "outputs": [
    {
     "name": "stdout",
     "output_type": "stream",
     "text": [
      "Successfully created new user: LNy2LVNwsqRDrjG5Qgihi8Vx9bD2\n",
      "Successfully created new user: 6FbuLmhgD3O3wWAs9TsA6TCgPWr2\n",
      "Successfully created new user: iVYlpgBdsZet6DJDbEsCUquvT9v1\n",
      "Successfully created new user: 1keZrqsbPBMZtFhA2Ps2lSYJKaE2\n",
      "Successfully created new user: wQB08TuN8kQZc9IFONeKSytcyvI2\n"
     ]
    }
   ],
   "source": [
    "import firebase_admin\n",
    "from firebase_admin import auth, credentials\n",
    "#from firebase_admin import credentials, firestore\n",
    "\n",
    "# Initialize the app with a service account\n",
    "if not firebase_admin._apps:\n",
    "    cred = credentials.Certificate(\"firebase-adminsdk.json\")\n",
    "    default_app = firebase_admin.initialize_app(cred)\n",
    "\n",
    "# Create a list of users to add\n",
    "users = [\"Alice\", \"Bob\", \"Charlie\", \"David\", \"Eve\", \"Frank\", \"Grace\", \"Harry\", \"Ivy\", \"Jack\"]\n",
    "\n",
    "# Loop through the users and create them with a default password\n",
    "for user in users:\n",
    "  try:\n",
    "    # Create the user with the email and password\n",
    "    user_record = auth.create_user(\n",
    "      email=f'{user.lower()}@example.com',\n",
    "      password='123456'\n",
    "    )\n",
    "    # Print the user ID\n",
    "    print(f'Successfully created new user: {user_record.uid}')\n",
    "  except firebase_admin.auth.AuthError as e:\n",
    "    # Handle any errors\n",
    "    print(f'Error creating new user: {e}')"
   ]
  }
 ],
 "metadata": {
  "kernelspec": {
   "display_name": "base",
   "language": "python",
   "name": "python3"
  },
  "language_info": {
   "codemirror_mode": {
    "name": "ipython",
    "version": 3
   },
   "file_extension": ".py",
   "mimetype": "text/x-python",
   "name": "python",
   "nbconvert_exporter": "python",
   "pygments_lexer": "ipython3",
   "version": "3.10.9"
  },
  "orig_nbformat": 4
 },
 "nbformat": 4,
 "nbformat_minor": 2
}
