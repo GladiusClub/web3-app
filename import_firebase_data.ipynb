{
 "cells": [
  {
   "attachments": {},
   "cell_type": "markdown",
   "metadata": {},
   "source": [
    "# The Gladius Data Model"
   ]
  },
  {
   "attachments": {},
   "cell_type": "markdown",
   "metadata": {},
   "source": [
    "### Data Model Structure"
   ]
  },
  {
   "attachments": {},
   "cell_type": "markdown",
   "metadata": {},
   "source": [
    "\n",
    "Collection: \"clubs\"\n",
    "\n",
    "Document: \"club_id\"\n",
    "Club data fields\n",
    "Sub-collection: \"events\"\n",
    "Document: \"event_id\"\n",
    "Event data fields\n",
    "Sub-collection: \"occurrences\"\n",
    "Document: \"occurrence_id\"\n",
    "Occurrence data fields\n",
    "Sub-collection: \"attendance\"\n",
    "Document: \"attendance_id\"\n",
    "Field: \"user_id\" (to reference the attending user)\n",
    "Field: \"score\" (record the score for the user at this occurrence)\n",
    "\n",
    "Collection: \"users\"\n",
    "\n",
    "Document: \"user_id\"\n",
    "User data fields\n",
    "Sub-collection: \"scores\"\n",
    "Document: \"score_id\"\n",
    "Field: \"club_id\" (to reference the club)\n",
    "Field: \"event_id\" (to reference the event)\n",
    "Field: \"occurrence_id\" (to reference the occurrence)\n",
    "Field: \"score\" (the user's score for this event occurrence)\n"
   ]
  },
  {
   "cell_type": "code",
   "execution_count": 37,
   "metadata": {},
   "outputs": [],
   "source": [
    "# Installs\n",
    "#!pip install firebase-admin"
   ]
  },
  {
   "cell_type": "code",
   "execution_count": 2,
   "metadata": {},
   "outputs": [],
   "source": [
    "\n",
    "# Import firebase_admin and initialize the app\n",
    "import firebase_admin\n",
    "from firebase_admin import auth, credentials, firestore\n",
    "import random\n"
   ]
  },
  {
   "attachments": {},
   "cell_type": "markdown",
   "metadata": {},
   "source": [
    "Authentication"
   ]
  },
  {
   "cell_type": "code",
   "execution_count": 4,
   "metadata": {},
   "outputs": [],
   "source": [
    "if not firebase_admin._apps:\n",
    "    cred = credentials.Certificate(\"../firebase-adminsdk.json\")\n",
    "    default_app = firebase_admin.initialize_app(cred)\n",
    "# Get a reference to the firestore database\n",
    "db = firestore.client()"
   ]
  },
  {
   "attachments": {},
   "cell_type": "markdown",
   "metadata": {},
   "source": [
    "# Create users with authentication"
   ]
  },
  {
   "attachments": {},
   "cell_type": "markdown",
   "metadata": {},
   "source": [
    "### Delete all auth users"
   ]
  },
  {
   "cell_type": "code",
   "execution_count": 27,
   "metadata": {},
   "outputs": [
    {
     "name": "stdout",
     "output_type": "stream",
     "text": [
      "Deleted user: 7DtR60Mjc7WH3phO6LGSkK3buei2\n",
      "Deleted user: HyU4ZLPLPYUH8ir8ukl4qSwVrqO2\n",
      "Deleted user: IfXh2ortOCZmr8q7WuZujxwrQFj1\n",
      "Deleted user: JZtbBhFRmChzoqlIeUu9lPLWwHO2\n",
      "Deleted user: K5PvdXF6A8ZqFfze37owXIIoYKO2\n",
      "Deleted user: ROJY5RdB78dfl9QQrrriBpUl1cX2\n",
      "Deleted user: SJcM2b9fwQZfpFGOaiLYX6IQwQj2\n",
      "Deleted user: X0wR2xjZ5xN6RZEG88dwyE1LUZh2\n",
      "Deleted user: aYqGWD5vJPRx9yuJx6IX92664ZJ2\n",
      "Deleted user: bjeTJCEg6Uhv7iuvWa10qBNDPVb2\n",
      "Deleted user: yqFab2OtYeP7uwBh8Ocl010bv132\n",
      "All users have been deleted.\n"
     ]
    }
   ],
   "source": [
    "user_list = auth.list_users()\n",
    "\n",
    "# Iterate over each user and delete them\n",
    "for user in user_list.users:\n",
    "    auth.delete_user(user.uid)\n",
    "    print(f\"Deleted user: {user.uid}\")\n",
    "\n",
    "print(\"All users have been deleted.\")"
   ]
  },
  {
   "attachments": {},
   "cell_type": "markdown",
   "metadata": {},
   "source": [
    "### Create new auth users"
   ]
  },
  {
   "cell_type": "code",
   "execution_count": 28,
   "metadata": {},
   "outputs": [
    {
     "name": "stdout",
     "output_type": "stream",
     "text": [
      "Successfully created new user: QOOc8hZLVrP0965Uh6pSSVd24Jf2\n",
      "Successfully created new user: NeUlhJOHrYf9wJ4pUqAUhOxft7E2\n",
      "Successfully created new user: BDUFoR5dM0eIsNQ4tDe9ixEQGgR2\n",
      "Successfully created new user: 5Vu5WYh8ypRNE77xvzNr4IPYQwS2\n",
      "Successfully created new user: Z7SPsuiRCyewNItseSRx2BbxAah1\n",
      "Successfully created new user: BLpUXWzidWezz2XpFCAABUbzvpL2\n",
      "Successfully created new user: efNgErA6oxZAZS2IcV2riYHQlJL2\n",
      "Successfully created new user: HvA1ZUXS5Rcekb9QiuC2oyAgx7E3\n",
      "Successfully created new user: 63Ni3tgHZNQNpZMJPJCnaUXgBUI2\n",
      "Successfully created new user: PlOydoMjIch5K6rVUszQmlKwIG83\n",
      "Successfully created new user: SOMzKHrZ5ThGIKUsGjofNzYcLIE2\n"
     ]
    }
   ],
   "source": [
    "# Create a list of users to add\n",
    "users = [\"Mare\", \"Jüri\", \"Liisa\", \"Mart\", \"Evelin\", \"Tõnis\", \"Mari\", \"Henrik\", \"Triin\", \"Jaak\", 'Bob']\n",
    "\n",
    "\n",
    "user_uuids = {}\n",
    "# Loop through the users and create them with a default password\n",
    "for user in users:\n",
    "  try:\n",
    "    # Create the user with the email and password\n",
    "    user_record = auth.create_user(\n",
    "      email=f'{user.lower()}@example.com',\n",
    "      password='123456'\n",
    "    )\n",
    "    user_uuids[user] = user_record.uid\n",
    "    # Print the user ID\n",
    "    print(f'Successfully created new user: {user_record.uid}')\n",
    "  except firebase_admin.auth.AuthError as e:\n",
    "    # Handle any errors\n",
    "    print(f'Error creating new user: {e}')"
   ]
  },
  {
   "attachments": {},
   "cell_type": "markdown",
   "metadata": {},
   "source": [
    "### Delete user collection"
   ]
  },
  {
   "cell_type": "code",
   "execution_count": 35,
   "metadata": {},
   "outputs": [
    {
     "name": "stdout",
     "output_type": "stream",
     "text": [
      "Users collection deleted successfully.\n"
     ]
    }
   ],
   "source": [
    "## Delete user collection\n",
    "# Function to delete a collection and its documents\n",
    "def delete_collection(collection_ref, batch_size):\n",
    "    docs = collection_ref.limit(batch_size).stream()\n",
    "    deleted = 0\n",
    "\n",
    "    for doc in docs:\n",
    "        doc.reference.delete()\n",
    "        deleted += 1\n",
    "\n",
    "    if deleted >= batch_size:\n",
    "        return delete_collection(collection_ref, batch_size)\n",
    "\n",
    "# Specify the \"users\" collection to be deleted\n",
    "users_collection_ref = db.collection(\"users\")\n",
    "\n",
    "# Delete the \"users\" collection and its documents\n",
    "delete_collection(users_collection_ref, 500)\n",
    "\n",
    "print(\"Users collection deleted successfully.\")"
   ]
  },
  {
   "attachments": {},
   "cell_type": "markdown",
   "metadata": {},
   "source": [
    "## Add users collection"
   ]
  },
  {
   "cell_type": "code",
   "execution_count": 29,
   "metadata": {},
   "outputs": [
    {
     "name": "stdout",
     "output_type": "stream",
     "text": [
      "Successfully created user: QOOc8hZLVrP0965Uh6pSSVd24Jf2\n",
      "Successfully created user: NeUlhJOHrYf9wJ4pUqAUhOxft7E2\n",
      "Successfully created user: BDUFoR5dM0eIsNQ4tDe9ixEQGgR2\n",
      "Successfully created user: 5Vu5WYh8ypRNE77xvzNr4IPYQwS2\n",
      "Successfully created user: Z7SPsuiRCyewNItseSRx2BbxAah1\n",
      "Successfully created user: BLpUXWzidWezz2XpFCAABUbzvpL2\n",
      "Successfully created user: efNgErA6oxZAZS2IcV2riYHQlJL2\n",
      "Successfully created user: HvA1ZUXS5Rcekb9QiuC2oyAgx7E3\n",
      "Successfully created user: 63Ni3tgHZNQNpZMJPJCnaUXgBUI2\n",
      "Successfully created user: PlOydoMjIch5K6rVUszQmlKwIG83\n",
      "Successfully created user: SOMzKHrZ5ThGIKUsGjofNzYcLIE2\n"
     ]
    }
   ],
   "source": [
    "# Create a collection for users\n",
    "users_collection = db.collection(\"users\")\n",
    "\n",
    "user_roles = {}\n",
    "\n",
    "# Loop through the users and add them to the \"users\" collection\n",
    "for user in users:\n",
    "    age = random.randint(18, 60)\n",
    "    email = f\"{user.lower()}@example.com\"\n",
    "    occupation = random.choice([\"Student\", \"Engineer\", \"Teacher\", \"Artist\"])\n",
    "\n",
    "\n",
    "for user in users:\n",
    "\n",
    "    # Assign roles for each user in different clubs\n",
    "    if user in [\"Bob\", \"Mare\"]:\n",
    "        user_roles[user_uuids[user]] = {\"club_id\": \"1\", \"role\": \"owner\"}\n",
    "    else:\n",
    "        user_roles[user_uuids[user]] = {\"club_id\": \"1\", \"role\": \"athlete\"}\n",
    "\n",
    "    user_data = {\n",
    "        \"name\": user,\n",
    "        \"email\": f\"{user.lower()}@example.com\",\n",
    "        \"age\": random.randint(18, 60),\n",
    "        \"occupation\": random.choice([\"Student\", \"Engineer\", \"Teacher\", \"Artist\"]),\n",
    "        \"is_active\": random.choice([True, False]),\n",
    "    }\n",
    "\n",
    "    user_ref = users_collection.document(user_uuids[user])\n",
    "    user_ref.set(user_data)\n",
    "    print(f\"Successfully created user: {user_uuids[user]}\")"
   ]
  },
  {
   "attachments": {},
   "cell_type": "markdown",
   "metadata": {},
   "source": [
    "## Delete Club collection"
   ]
  },
  {
   "cell_type": "code",
   "execution_count": 36,
   "metadata": {},
   "outputs": [
    {
     "name": "stdout",
     "output_type": "stream",
     "text": [
      "Clubs collection deleted successfully.\n"
     ]
    }
   ],
   "source": [
    "## Delete user collection\n",
    "# Function to delete a collection and its documents\n",
    "def delete_collection(collection_ref, batch_size):\n",
    "    docs = collection_ref.limit(batch_size).stream()\n",
    "    deleted = 0\n",
    "\n",
    "    for doc in docs:\n",
    "        doc.reference.delete()\n",
    "        deleted += 1\n",
    "\n",
    "    if deleted >= batch_size:\n",
    "        return delete_collection(collection_ref, batch_size)\n",
    "\n",
    "# Specify the \"users\" collection to be deleted\n",
    "users_collection_ref = db.collection(\"clubs\")\n",
    "\n",
    "# Delete the \"users\" collection and its documents\n",
    "delete_collection(users_collection_ref, 500)\n",
    "\n",
    "print(\"Clubs collection deleted successfully.\")"
   ]
  },
  {
   "attachments": {},
   "cell_type": "markdown",
   "metadata": {},
   "source": [
    "## Add club collection"
   ]
  },
  {
   "cell_type": "code",
   "execution_count": 33,
   "metadata": {},
   "outputs": [
    {
     "data": {
      "text/plain": [
       "update_time {\n",
       "  seconds: 1687370976\n",
       "  nanos: 378830000\n",
       "}"
      ]
     },
     "execution_count": 33,
     "metadata": {},
     "output_type": "execute_result"
    }
   ],
   "source": [
    "\n",
    "# Create a collection for clubs\n",
    "clubs = db.collection(\"clubs\")\n",
    "\n",
    "# Create a document for a club with some data fields\n",
    "club_id = '1'\n",
    "club_data = {\n",
    "    \"name\": \"Gladius Club\",\n",
    "    \"description\": \"A Learn to Earn Club\",\n",
    "    \"owners\": [user_uuid for user_uuid, role in user_roles.items() if role[\"club_id\"] == \"1\" and role[\"role\"] == \"owner\"],\n",
    "    \"athletes\": [user_uuid for user_uuid, role in user_roles.items() if role[\"club_id\"] == \"1\"],\n",
    "\n",
    "}\n",
    "club_ref = clubs.document(club_id)\n",
    "club_ref.set(club_data)\n"
   ]
  },
  {
   "attachments": {},
   "cell_type": "markdown",
   "metadata": {},
   "source": [
    "## Add events to clubs"
   ]
  },
  {
   "attachments": {},
   "cell_type": "markdown",
   "metadata": {},
   "source": [
    "### Listing events from calendar"
   ]
  },
  {
   "cell_type": "code",
   "execution_count": 25,
   "metadata": {},
   "outputs": [],
   "source": [
    "googleCalendarId = \"dcromp88@googlemail.com\"\n",
    "\n",
    "\n",
    "SCOPES = ['https://www.googleapis.com/auth/calendar']\n",
    "SERVICE_ACCOUNT_FILE = '../firebase-adminsdk.json'"
   ]
  },
  {
   "cell_type": "code",
   "execution_count": 27,
   "metadata": {},
   "outputs": [
    {
     "name": "stdout",
     "output_type": "stream",
     "text": [
      "Getting the upcoming 10 events\n",
      "2023-06-23T19:00:00+02:00 Training\n",
      "2023-06-23T20:00:00+02:00 Adult Training\n",
      "2023-06-27T19:00:00+02:00 Training\n",
      "2023-06-30T19:00:00+02:00 Training\n",
      "2023-06-30T20:00:00+02:00 Adult Training\n",
      "2023-07-04T19:00:00+02:00 Training\n",
      "2023-07-07T19:00:00+02:00 Training\n",
      "2023-07-07T20:00:00+02:00 Adult Training\n",
      "2023-07-11T19:00:00+02:00 Training\n",
      "2023-07-14T19:00:00+02:00 Training\n"
     ]
    }
   ],
   "source": [
    "from __future__ import print_function\n",
    "\n",
    "import datetime\n",
    "import os.path\n",
    "\n",
    "from google.auth.transport.requests import Request\n",
    "from google.oauth2.credentials import Credentials\n",
    "from google_auth_oauthlib.flow import InstalledAppFlow\n",
    "from googleapiclient.discovery import build\n",
    "from googleapiclient.errors import HttpError\n",
    "from google.oauth2 import service_account\n",
    "\n",
    "\n",
    "# If modifying these scopes, delete the file token.json.\n",
    "SCOPES = ['https://www.googleapis.com/auth/calendar.readonly']\n",
    "\n",
    "\n",
    "\n",
    "\n",
    "def main():\n",
    "    creds = service_account.Credentials.from_service_account_file(\n",
    "        SERVICE_ACCOUNT_FILE, scopes=SCOPES)\n",
    "\n",
    "\n",
    "    try:\n",
    "        service = build('calendar', 'v3', credentials=creds)\n",
    "\n",
    "        # Call the Calendar API\n",
    "        now = datetime.datetime.utcnow().isoformat() + 'Z'  # 'Z' indicates UTC time\n",
    "        print('Getting the upcoming 10 events')\n",
    "        events_result = service.events().list(calendarId=googleCalendarId, timeMin=now,\n",
    "                                              maxResults=10, singleEvents=True,\n",
    "                                              orderBy='startTime').execute()\n",
    "        events = events_result.get('items', [])\n",
    "\n",
    "        if not events:\n",
    "            print('No upcoming events found.')\n",
    "            return\n",
    "\n",
    "        # Prints the start and name of the next 10 events\n",
    "        for event in events:\n",
    "            start = event['start'].get('dateTime', event['start'].get('date'))\n",
    "            print(start, event['summary'])\n",
    "\n",
    "    except HttpError as error:\n",
    "        print('An error occurred: %s' % error)\n",
    "\n",
    "\n",
    "if __name__ == '__main__':\n",
    "    main()\n",
    "\n"
   ]
  },
  {
   "attachments": {},
   "cell_type": "markdown",
   "metadata": {},
   "source": [
    "### Add events to Firebase [events] collection"
   ]
  },
  {
   "cell_type": "code",
   "execution_count": 34,
   "metadata": {},
   "outputs": [
    {
     "name": "stderr",
     "output_type": "stream",
     "text": [
      "/home/alexsi/.local/lib/python3.10/site-packages/google/auth/_default.py:78: UserWarning: Your application has authenticated using end user credentials from Google Cloud SDK without a quota project. You might receive a \"quota exceeded\" or \"API not enabled\" error. See the following page for troubleshooting: https://cloud.google.com/docs/authentication/adc-troubleshooting/user-creds. \n",
      "  warnings.warn(_CLOUD_SDK_CREDENTIALS_WARNING)\n"
     ]
    },
    {
     "name": "stdout",
     "output_type": "stream",
     "text": [
      "Getting the upcoming 10 events\n",
      "2023-06-23T19:00:00+02:00 Training\n"
     ]
    },
    {
     "ename": "PermissionDenied",
     "evalue": "403 Missing or insufficient permissions.",
     "output_type": "error",
     "traceback": [
      "\u001b[0;31m---------------------------------------------------------------------------\u001b[0m",
      "\u001b[0;31m_InactiveRpcError\u001b[0m                         Traceback (most recent call last)",
      "File \u001b[0;32m~/.local/lib/python3.10/site-packages/google/api_core/grpc_helpers.py:72\u001b[0m, in \u001b[0;36m_wrap_unary_errors.<locals>.error_remapped_callable\u001b[0;34m(*args, **kwargs)\u001b[0m\n\u001b[1;32m     71\u001b[0m \u001b[39mtry\u001b[39;00m:\n\u001b[0;32m---> 72\u001b[0m     \u001b[39mreturn\u001b[39;00m callable_(\u001b[39m*\u001b[39;49margs, \u001b[39m*\u001b[39;49m\u001b[39m*\u001b[39;49mkwargs)\n\u001b[1;32m     73\u001b[0m \u001b[39mexcept\u001b[39;00m grpc\u001b[39m.\u001b[39mRpcError \u001b[39mas\u001b[39;00m exc:\n",
      "File \u001b[0;32m~/.local/lib/python3.10/site-packages/grpc/_channel.py:1030\u001b[0m, in \u001b[0;36m_UnaryUnaryMultiCallable.__call__\u001b[0;34m(self, request, timeout, metadata, credentials, wait_for_ready, compression)\u001b[0m\n\u001b[1;32m   1028\u001b[0m state, call, \u001b[39m=\u001b[39m \u001b[39mself\u001b[39m\u001b[39m.\u001b[39m_blocking(request, timeout, metadata, credentials,\n\u001b[1;32m   1029\u001b[0m                               wait_for_ready, compression)\n\u001b[0;32m-> 1030\u001b[0m \u001b[39mreturn\u001b[39;00m _end_unary_response_blocking(state, call, \u001b[39mFalse\u001b[39;49;00m, \u001b[39mNone\u001b[39;49;00m)\n",
      "File \u001b[0;32m~/.local/lib/python3.10/site-packages/grpc/_channel.py:910\u001b[0m, in \u001b[0;36m_end_unary_response_blocking\u001b[0;34m(state, call, with_call, deadline)\u001b[0m\n\u001b[1;32m    909\u001b[0m \u001b[39melse\u001b[39;00m:\n\u001b[0;32m--> 910\u001b[0m     \u001b[39mraise\u001b[39;00m _InactiveRpcError(state)\n",
      "\u001b[0;31m_InactiveRpcError\u001b[0m: <_InactiveRpcError of RPC that terminated with:\n\tstatus = StatusCode.PERMISSION_DENIED\n\tdetails = \"Missing or insufficient permissions.\"\n\tdebug_error_string = \"UNKNOWN:Error received from peer ipv4:216.58.210.170:443 {grpc_message:\"Missing or insufficient permissions.\", grpc_status:7, created_time:\"2023-06-23T17:37:35.066937295+03:00\"}\"\n>",
      "\nThe above exception was the direct cause of the following exception:\n",
      "\u001b[0;31mPermissionDenied\u001b[0m                          Traceback (most recent call last)",
      "Cell \u001b[0;32mIn[34], line 44\u001b[0m\n\u001b[1;32m     41\u001b[0m         doc_ref\u001b[39m.\u001b[39mset(event)\n\u001b[1;32m     43\u001b[0m \u001b[39mif\u001b[39;00m \u001b[39m__name__\u001b[39m \u001b[39m==\u001b[39m \u001b[39m'\u001b[39m\u001b[39m__main__\u001b[39m\u001b[39m'\u001b[39m:\n\u001b[0;32m---> 44\u001b[0m     import_events()\n",
      "Cell \u001b[0;32mIn[34], line 41\u001b[0m, in \u001b[0;36mimport_events\u001b[0;34m()\u001b[0m\n\u001b[1;32m     38\u001b[0m \u001b[39mprint\u001b[39m(start, event[\u001b[39m'\u001b[39m\u001b[39msummary\u001b[39m\u001b[39m'\u001b[39m])\n\u001b[1;32m     40\u001b[0m doc_ref \u001b[39m=\u001b[39m db\u001b[39m.\u001b[39mcollection(\u001b[39m'\u001b[39m\u001b[39mevents\u001b[39m\u001b[39m'\u001b[39m)\u001b[39m.\u001b[39mdocument(start)\n\u001b[0;32m---> 41\u001b[0m doc_ref\u001b[39m.\u001b[39;49mset(event)\n",
      "File \u001b[0;32m~/.local/lib/python3.10/site-packages/google/cloud/firestore_v1/document.py:167\u001b[0m, in \u001b[0;36mDocumentReference.set\u001b[0;34m(self, document_data, merge, retry, timeout)\u001b[0m\n\u001b[1;32m    109\u001b[0m \u001b[39m\u001b[39m\u001b[39m\"\"\"Create / replace / merge a document in the Firestore database.\u001b[39;00m\n\u001b[1;32m    110\u001b[0m \n\u001b[1;32m    111\u001b[0m \u001b[39m- To \"upsert\" a document (create if it doesn't exist, replace completely\u001b[39;00m\n\u001b[0;32m   (...)\u001b[0m\n\u001b[1;32m    164\u001b[0m \u001b[39m    result contains an ``update_time`` field.\u001b[39;00m\n\u001b[1;32m    165\u001b[0m \u001b[39m\"\"\"\u001b[39;00m\n\u001b[1;32m    166\u001b[0m batch, kwargs \u001b[39m=\u001b[39m \u001b[39mself\u001b[39m\u001b[39m.\u001b[39m_prep_set(document_data, merge, retry, timeout)\n\u001b[0;32m--> 167\u001b[0m write_results \u001b[39m=\u001b[39m batch\u001b[39m.\u001b[39;49mcommit(\u001b[39m*\u001b[39;49m\u001b[39m*\u001b[39;49mkwargs)\n\u001b[1;32m    168\u001b[0m \u001b[39mreturn\u001b[39;00m _first_write_result(write_results)\n",
      "File \u001b[0;32m~/.local/lib/python3.10/site-packages/google/cloud/firestore_v1/batch.py:59\u001b[0m, in \u001b[0;36mWriteBatch.commit\u001b[0;34m(self, retry, timeout)\u001b[0m\n\u001b[1;32m     43\u001b[0m \u001b[39m\u001b[39m\u001b[39m\"\"\"Commit the changes accumulated in this batch.\u001b[39;00m\n\u001b[1;32m     44\u001b[0m \n\u001b[1;32m     45\u001b[0m \u001b[39mArgs:\u001b[39;00m\n\u001b[0;32m   (...)\u001b[0m\n\u001b[1;32m     55\u001b[0m \u001b[39m    write result contains an ``update_time`` field.\u001b[39;00m\n\u001b[1;32m     56\u001b[0m \u001b[39m\"\"\"\u001b[39;00m\n\u001b[1;32m     57\u001b[0m request, kwargs \u001b[39m=\u001b[39m \u001b[39mself\u001b[39m\u001b[39m.\u001b[39m_prep_commit(retry, timeout)\n\u001b[0;32m---> 59\u001b[0m commit_response \u001b[39m=\u001b[39m \u001b[39mself\u001b[39;49m\u001b[39m.\u001b[39;49m_client\u001b[39m.\u001b[39;49m_firestore_api\u001b[39m.\u001b[39;49mcommit(\n\u001b[1;32m     60\u001b[0m     request\u001b[39m=\u001b[39;49mrequest,\n\u001b[1;32m     61\u001b[0m     metadata\u001b[39m=\u001b[39;49m\u001b[39mself\u001b[39;49m\u001b[39m.\u001b[39;49m_client\u001b[39m.\u001b[39;49m_rpc_metadata,\n\u001b[1;32m     62\u001b[0m     \u001b[39m*\u001b[39;49m\u001b[39m*\u001b[39;49mkwargs,\n\u001b[1;32m     63\u001b[0m )\n\u001b[1;32m     65\u001b[0m \u001b[39mself\u001b[39m\u001b[39m.\u001b[39m_write_pbs \u001b[39m=\u001b[39m []\n\u001b[1;32m     66\u001b[0m \u001b[39mself\u001b[39m\u001b[39m.\u001b[39mwrite_results \u001b[39m=\u001b[39m results \u001b[39m=\u001b[39m \u001b[39mlist\u001b[39m(commit_response\u001b[39m.\u001b[39mwrite_results)\n",
      "File \u001b[0;32m~/.local/lib/python3.10/site-packages/google/cloud/firestore_v1/services/firestore/client.py:1125\u001b[0m, in \u001b[0;36mFirestoreClient.commit\u001b[0;34m(self, request, database, writes, retry, timeout, metadata)\u001b[0m\n\u001b[1;32m   1120\u001b[0m metadata \u001b[39m=\u001b[39m \u001b[39mtuple\u001b[39m(metadata) \u001b[39m+\u001b[39m (\n\u001b[1;32m   1121\u001b[0m     gapic_v1\u001b[39m.\u001b[39mrouting_header\u001b[39m.\u001b[39mto_grpc_metadata(((\u001b[39m\"\u001b[39m\u001b[39mdatabase\u001b[39m\u001b[39m\"\u001b[39m, request\u001b[39m.\u001b[39mdatabase),)),\n\u001b[1;32m   1122\u001b[0m )\n\u001b[1;32m   1124\u001b[0m \u001b[39m# Send the request.\u001b[39;00m\n\u001b[0;32m-> 1125\u001b[0m response \u001b[39m=\u001b[39m rpc(\n\u001b[1;32m   1126\u001b[0m     request,\n\u001b[1;32m   1127\u001b[0m     retry\u001b[39m=\u001b[39;49mretry,\n\u001b[1;32m   1128\u001b[0m     timeout\u001b[39m=\u001b[39;49mtimeout,\n\u001b[1;32m   1129\u001b[0m     metadata\u001b[39m=\u001b[39;49mmetadata,\n\u001b[1;32m   1130\u001b[0m )\n\u001b[1;32m   1132\u001b[0m \u001b[39m# Done; return the response.\u001b[39;00m\n\u001b[1;32m   1133\u001b[0m \u001b[39mreturn\u001b[39;00m response\n",
      "File \u001b[0;32m~/.local/lib/python3.10/site-packages/google/api_core/gapic_v1/method.py:113\u001b[0m, in \u001b[0;36m_GapicCallable.__call__\u001b[0;34m(self, timeout, retry, *args, **kwargs)\u001b[0m\n\u001b[1;32m    110\u001b[0m     metadata\u001b[39m.\u001b[39mextend(\u001b[39mself\u001b[39m\u001b[39m.\u001b[39m_metadata)\n\u001b[1;32m    111\u001b[0m     kwargs[\u001b[39m\"\u001b[39m\u001b[39mmetadata\u001b[39m\u001b[39m\"\u001b[39m] \u001b[39m=\u001b[39m metadata\n\u001b[0;32m--> 113\u001b[0m \u001b[39mreturn\u001b[39;00m wrapped_func(\u001b[39m*\u001b[39;49margs, \u001b[39m*\u001b[39;49m\u001b[39m*\u001b[39;49mkwargs)\n",
      "File \u001b[0;32m~/.local/lib/python3.10/site-packages/google/api_core/retry.py:349\u001b[0m, in \u001b[0;36mRetry.__call__.<locals>.retry_wrapped_func\u001b[0;34m(*args, **kwargs)\u001b[0m\n\u001b[1;32m    345\u001b[0m target \u001b[39m=\u001b[39m functools\u001b[39m.\u001b[39mpartial(func, \u001b[39m*\u001b[39margs, \u001b[39m*\u001b[39m\u001b[39m*\u001b[39mkwargs)\n\u001b[1;32m    346\u001b[0m sleep_generator \u001b[39m=\u001b[39m exponential_sleep_generator(\n\u001b[1;32m    347\u001b[0m     \u001b[39mself\u001b[39m\u001b[39m.\u001b[39m_initial, \u001b[39mself\u001b[39m\u001b[39m.\u001b[39m_maximum, multiplier\u001b[39m=\u001b[39m\u001b[39mself\u001b[39m\u001b[39m.\u001b[39m_multiplier\n\u001b[1;32m    348\u001b[0m )\n\u001b[0;32m--> 349\u001b[0m \u001b[39mreturn\u001b[39;00m retry_target(\n\u001b[1;32m    350\u001b[0m     target,\n\u001b[1;32m    351\u001b[0m     \u001b[39mself\u001b[39;49m\u001b[39m.\u001b[39;49m_predicate,\n\u001b[1;32m    352\u001b[0m     sleep_generator,\n\u001b[1;32m    353\u001b[0m     \u001b[39mself\u001b[39;49m\u001b[39m.\u001b[39;49m_timeout,\n\u001b[1;32m    354\u001b[0m     on_error\u001b[39m=\u001b[39;49mon_error,\n\u001b[1;32m    355\u001b[0m )\n",
      "File \u001b[0;32m~/.local/lib/python3.10/site-packages/google/api_core/retry.py:191\u001b[0m, in \u001b[0;36mretry_target\u001b[0;34m(target, predicate, sleep_generator, timeout, on_error, **kwargs)\u001b[0m\n\u001b[1;32m    189\u001b[0m \u001b[39mfor\u001b[39;00m sleep \u001b[39min\u001b[39;00m sleep_generator:\n\u001b[1;32m    190\u001b[0m     \u001b[39mtry\u001b[39;00m:\n\u001b[0;32m--> 191\u001b[0m         \u001b[39mreturn\u001b[39;00m target()\n\u001b[1;32m    193\u001b[0m     \u001b[39m# pylint: disable=broad-except\u001b[39;00m\n\u001b[1;32m    194\u001b[0m     \u001b[39m# This function explicitly must deal with broad exceptions.\u001b[39;00m\n\u001b[1;32m    195\u001b[0m     \u001b[39mexcept\u001b[39;00m \u001b[39mException\u001b[39;00m \u001b[39mas\u001b[39;00m exc:\n",
      "File \u001b[0;32m~/.local/lib/python3.10/site-packages/google/api_core/timeout.py:120\u001b[0m, in \u001b[0;36mTimeToDeadlineTimeout.__call__.<locals>.func_with_timeout\u001b[0;34m(*args, **kwargs)\u001b[0m\n\u001b[1;32m    117\u001b[0m     \u001b[39m# Avoid setting negative timeout\u001b[39;00m\n\u001b[1;32m    118\u001b[0m     kwargs[\u001b[39m\"\u001b[39m\u001b[39mtimeout\u001b[39m\u001b[39m\"\u001b[39m] \u001b[39m=\u001b[39m \u001b[39mmax\u001b[39m(\u001b[39m0\u001b[39m, \u001b[39mself\u001b[39m\u001b[39m.\u001b[39m_timeout \u001b[39m-\u001b[39m time_since_first_attempt)\n\u001b[0;32m--> 120\u001b[0m \u001b[39mreturn\u001b[39;00m func(\u001b[39m*\u001b[39;49margs, \u001b[39m*\u001b[39;49m\u001b[39m*\u001b[39;49mkwargs)\n",
      "File \u001b[0;32m~/.local/lib/python3.10/site-packages/google/api_core/grpc_helpers.py:74\u001b[0m, in \u001b[0;36m_wrap_unary_errors.<locals>.error_remapped_callable\u001b[0;34m(*args, **kwargs)\u001b[0m\n\u001b[1;32m     72\u001b[0m     \u001b[39mreturn\u001b[39;00m callable_(\u001b[39m*\u001b[39margs, \u001b[39m*\u001b[39m\u001b[39m*\u001b[39mkwargs)\n\u001b[1;32m     73\u001b[0m \u001b[39mexcept\u001b[39;00m grpc\u001b[39m.\u001b[39mRpcError \u001b[39mas\u001b[39;00m exc:\n\u001b[0;32m---> 74\u001b[0m     \u001b[39mraise\u001b[39;00m exceptions\u001b[39m.\u001b[39mfrom_grpc_error(exc) \u001b[39mfrom\u001b[39;00m \u001b[39mexc\u001b[39;00m\n",
      "\u001b[0;31mPermissionDenied\u001b[0m: 403 Missing or insufficient permissions."
     ]
    }
   ],
   "source": [
    "import os\n",
    "os.environ[\"GCLOUD_PROJECT\"] = \"wallet-login-45c1c\"\n",
    "\n",
    "from google.oauth2.credentials import Credentials\n",
    "from googleapiclient.discovery import build\n",
    "from googleapiclient.errors import HttpError\n",
    "from google.oauth2 import service_account\n",
    "\n",
    "\n",
    "#SCOPES = ['https://www.googleapis.com/auth/calendar']\n",
    "#SERVICE_ACCOUNT_FILE = '../firebase-adminsdk.json'\n",
    "\n",
    "def import_events():\n",
    "    # Set up the Calendar API\n",
    "    \n",
    "    creds = service_account.Credentials.from_service_account_file(\n",
    "        SERVICE_ACCOUNT_FILE, scopes=SCOPES)\n",
    "    \n",
    "\n",
    "    service = build('calendar', 'v3', credentials=creds)\n",
    "\n",
    "    # Set up the Firestore API\n",
    "    db = firestore.Client()\n",
    "\n",
    "    # Get the events from the public calendar\n",
    "    # Call the Calendar API\n",
    "    now = datetime.datetime.utcnow().isoformat() + 'Z'  # 'Z' indicates UTC time\n",
    "    print('Getting the upcoming 10 events')\n",
    "        \n",
    "    events_result = service.events().list(calendarId=googleCalendarId, timeMin=now,\n",
    "                                              maxResults=10, singleEvents=True,\n",
    "                                              orderBy='startTime').execute()\n",
    "    events = events_result.get('items', [])\n",
    "\n",
    "    # Add each event to Firestore\n",
    "    for event in events:\n",
    "        start = event['start'].get('dateTime', event['start'].get('date'))\n",
    "        print(start, event['summary'])\n",
    "\n",
    "        doc_ref = db.collection('events').document(start)\n",
    "        doc_ref.set(event)\n",
    "\n",
    "if __name__ == '__main__':\n",
    "    import_events()\n"
   ]
  },
  {
   "cell_type": "code",
   "execution_count": 31,
   "metadata": {},
   "outputs": [
    {
     "name": "stdout",
     "output_type": "stream",
     "text": [
      "Getting the upcoming 10 events\n"
     ]
    },
    {
     "name": "stderr",
     "output_type": "stream",
     "text": [
      "/home/alexsi/.local/lib/python3.10/site-packages/google/auth/_default.py:78: UserWarning: Your application has authenticated using end user credentials from Google Cloud SDK without a quota project. You might receive a \"quota exceeded\" or \"API not enabled\" error. See the following page for troubleshooting: https://cloud.google.com/docs/authentication/adc-troubleshooting/user-creds. \n",
      "  warnings.warn(_CLOUD_SDK_CREDENTIALS_WARNING)\n"
     ]
    },
    {
     "ename": "AttributeError",
     "evalue": "'str' object has no attribute 'items'",
     "output_type": "error",
     "traceback": [
      "\u001b[0;31m---------------------------------------------------------------------------\u001b[0m",
      "\u001b[0;31mAttributeError\u001b[0m                            Traceback (most recent call last)",
      "Cell \u001b[0;32mIn[31], line 48\u001b[0m\n\u001b[1;32m     44\u001b[0m         \u001b[39mprint\u001b[39m(\u001b[39m'\u001b[39m\u001b[39mAn error occurred: \u001b[39m\u001b[39m%s\u001b[39;00m\u001b[39m'\u001b[39m \u001b[39m%\u001b[39m error)\n\u001b[1;32m     47\u001b[0m \u001b[39mif\u001b[39;00m \u001b[39m__name__\u001b[39m \u001b[39m==\u001b[39m \u001b[39m'\u001b[39m\u001b[39m__main__\u001b[39m\u001b[39m'\u001b[39m:\n\u001b[0;32m---> 48\u001b[0m     import_events()\n\u001b[1;32m     50\u001b[0m \u001b[39m#if __name__ == '__main__':\u001b[39;00m\n\u001b[1;32m     51\u001b[0m     \n\u001b[1;32m     52\u001b[0m     \u001b[39m#import_events()\u001b[39;00m\n",
      "Cell \u001b[0;32mIn[31], line 32\u001b[0m, in \u001b[0;36mimport_events\u001b[0;34m()\u001b[0m\n\u001b[1;32m     28\u001b[0m     start \u001b[39m=\u001b[39m event[\u001b[39m'\u001b[39m\u001b[39mstart\u001b[39m\u001b[39m'\u001b[39m]\u001b[39m.\u001b[39mget(\u001b[39m'\u001b[39m\u001b[39mdateTime\u001b[39m\u001b[39m'\u001b[39m, event[\u001b[39m'\u001b[39m\u001b[39mstart\u001b[39m\u001b[39m'\u001b[39m]\u001b[39m.\u001b[39mget(\u001b[39m'\u001b[39m\u001b[39mdate\u001b[39m\u001b[39m'\u001b[39m))\n\u001b[1;32m     31\u001b[0m     event_ref \u001b[39m=\u001b[39m events_collection\u001b[39m.\u001b[39mdocument(start)\n\u001b[0;32m---> 32\u001b[0m     event_ref\u001b[39m.\u001b[39;49mset(event[\u001b[39m'\u001b[39;49m\u001b[39msummary\u001b[39;49m\u001b[39m'\u001b[39;49m])\n\u001b[1;32m     33\u001b[0m     \u001b[39mprint\u001b[39m(start, event[\u001b[39m'\u001b[39m\u001b[39msummary\u001b[39m\u001b[39m'\u001b[39m])\n\u001b[1;32m     35\u001b[0m     \u001b[39m#print(start, event['summary'], ' event_id= ', event['id'])\u001b[39;00m\n\u001b[1;32m     36\u001b[0m \n\u001b[1;32m     37\u001b[0m \n\u001b[0;32m   (...)\u001b[0m\n\u001b[1;32m     40\u001b[0m \u001b[39m#   doc_ref = db.collection('events').document(event['id'])\u001b[39;00m\n\u001b[1;32m     41\u001b[0m \u001b[39m#   doc_ref.set(event)\u001b[39;00m\n",
      "File \u001b[0;32m~/.local/lib/python3.10/site-packages/google/cloud/firestore_v1/document.py:166\u001b[0m, in \u001b[0;36mDocumentReference.set\u001b[0;34m(self, document_data, merge, retry, timeout)\u001b[0m\n\u001b[1;32m    102\u001b[0m \u001b[39mdef\u001b[39;00m \u001b[39mset\u001b[39m(\n\u001b[1;32m    103\u001b[0m     \u001b[39mself\u001b[39m,\n\u001b[1;32m    104\u001b[0m     document_data: \u001b[39mdict\u001b[39m,\n\u001b[0;32m   (...)\u001b[0m\n\u001b[1;32m    107\u001b[0m     timeout: \u001b[39mfloat\u001b[39m \u001b[39m=\u001b[39m \u001b[39mNone\u001b[39;00m,\n\u001b[1;32m    108\u001b[0m ) \u001b[39m-\u001b[39m\u001b[39m>\u001b[39m write\u001b[39m.\u001b[39mWriteResult:\n\u001b[1;32m    109\u001b[0m \u001b[39m    \u001b[39m\u001b[39m\"\"\"Create / replace / merge a document in the Firestore database.\u001b[39;00m\n\u001b[1;32m    110\u001b[0m \n\u001b[1;32m    111\u001b[0m \u001b[39m    - To \"upsert\" a document (create if it doesn't exist, replace completely\u001b[39;00m\n\u001b[0;32m   (...)\u001b[0m\n\u001b[1;32m    164\u001b[0m \u001b[39m        result contains an ``update_time`` field.\u001b[39;00m\n\u001b[1;32m    165\u001b[0m \u001b[39m    \"\"\"\u001b[39;00m\n\u001b[0;32m--> 166\u001b[0m     batch, kwargs \u001b[39m=\u001b[39m \u001b[39mself\u001b[39;49m\u001b[39m.\u001b[39;49m_prep_set(document_data, merge, retry, timeout)\n\u001b[1;32m    167\u001b[0m     write_results \u001b[39m=\u001b[39m batch\u001b[39m.\u001b[39mcommit(\u001b[39m*\u001b[39m\u001b[39m*\u001b[39mkwargs)\n\u001b[1;32m    168\u001b[0m     \u001b[39mreturn\u001b[39;00m _first_write_result(write_results)\n",
      "File \u001b[0;32m~/.local/lib/python3.10/site-packages/google/cloud/firestore_v1/base_document.py:217\u001b[0m, in \u001b[0;36mBaseDocumentReference._prep_set\u001b[0;34m(self, document_data, merge, retry, timeout)\u001b[0m\n\u001b[1;32m    209\u001b[0m \u001b[39mdef\u001b[39;00m \u001b[39m_prep_set\u001b[39m(\n\u001b[1;32m    210\u001b[0m     \u001b[39mself\u001b[39m,\n\u001b[1;32m    211\u001b[0m     document_data: \u001b[39mdict\u001b[39m,\n\u001b[0;32m   (...)\u001b[0m\n\u001b[1;32m    214\u001b[0m     timeout: \u001b[39mfloat\u001b[39m \u001b[39m=\u001b[39m \u001b[39mNone\u001b[39;00m,\n\u001b[1;32m    215\u001b[0m ) \u001b[39m-\u001b[39m\u001b[39m>\u001b[39m Tuple[Any, \u001b[39mdict\u001b[39m]:\n\u001b[1;32m    216\u001b[0m     batch \u001b[39m=\u001b[39m \u001b[39mself\u001b[39m\u001b[39m.\u001b[39m_client\u001b[39m.\u001b[39mbatch()\n\u001b[0;32m--> 217\u001b[0m     batch\u001b[39m.\u001b[39;49mset(\u001b[39mself\u001b[39;49m, document_data, merge\u001b[39m=\u001b[39;49mmerge)\n\u001b[1;32m    218\u001b[0m     kwargs \u001b[39m=\u001b[39m _helpers\u001b[39m.\u001b[39mmake_retry_timeout_kwargs(retry, timeout)\n\u001b[1;32m    220\u001b[0m     \u001b[39mreturn\u001b[39;00m batch, kwargs\n",
      "File \u001b[0;32m~/.local/lib/python3.10/site-packages/google/cloud/firestore_v1/base_batch.py:111\u001b[0m, in \u001b[0;36mBaseBatch.set\u001b[0;34m(self, reference, document_data, merge)\u001b[0m\n\u001b[1;32m    107\u001b[0m     write_pbs \u001b[39m=\u001b[39m _helpers\u001b[39m.\u001b[39mpbs_for_set_with_merge(\n\u001b[1;32m    108\u001b[0m         reference\u001b[39m.\u001b[39m_document_path, document_data, merge\n\u001b[1;32m    109\u001b[0m     )\n\u001b[1;32m    110\u001b[0m \u001b[39melse\u001b[39;00m:\n\u001b[0;32m--> 111\u001b[0m     write_pbs \u001b[39m=\u001b[39m _helpers\u001b[39m.\u001b[39;49mpbs_for_set_no_merge(\n\u001b[1;32m    112\u001b[0m         reference\u001b[39m.\u001b[39;49m_document_path, document_data\n\u001b[1;32m    113\u001b[0m     )\n\u001b[1;32m    115\u001b[0m \u001b[39mself\u001b[39m\u001b[39m.\u001b[39m_document_references[reference\u001b[39m.\u001b[39m_document_path] \u001b[39m=\u001b[39m reference\n\u001b[1;32m    116\u001b[0m \u001b[39mself\u001b[39m\u001b[39m.\u001b[39m_add_write_pbs(write_pbs)\n",
      "File \u001b[0;32m~/.local/lib/python3.10/site-packages/google/cloud/firestore_v1/_helpers.py:705\u001b[0m, in \u001b[0;36mpbs_for_set_no_merge\u001b[0;34m(document_path, document_data)\u001b[0m\n\u001b[1;32m    693\u001b[0m \u001b[39mdef\u001b[39;00m \u001b[39mpbs_for_set_no_merge\u001b[39m(document_path, document_data) \u001b[39m-\u001b[39m\u001b[39m>\u001b[39m List[types\u001b[39m.\u001b[39mwrite\u001b[39m.\u001b[39mWrite]:\n\u001b[1;32m    694\u001b[0m \u001b[39m    \u001b[39m\u001b[39m\"\"\"Make ``Write`` protobufs for ``set()`` methods.\u001b[39;00m\n\u001b[1;32m    695\u001b[0m \n\u001b[1;32m    696\u001b[0m \u001b[39m    Args:\u001b[39;00m\n\u001b[0;32m   (...)\u001b[0m\n\u001b[1;32m    703\u001b[0m \u001b[39m        or two ``Write`` protobuf instances for ``set()``.\u001b[39;00m\n\u001b[1;32m    704\u001b[0m \u001b[39m    \"\"\"\u001b[39;00m\n\u001b[0;32m--> 705\u001b[0m     extractor \u001b[39m=\u001b[39m DocumentExtractor(document_data)\n\u001b[1;32m    707\u001b[0m     \u001b[39mif\u001b[39;00m extractor\u001b[39m.\u001b[39mdeleted_fields:\n\u001b[1;32m    708\u001b[0m         \u001b[39mraise\u001b[39;00m \u001b[39mValueError\u001b[39;00m(\n\u001b[1;32m    709\u001b[0m             \u001b[39m\"\u001b[39m\u001b[39mCannot apply DELETE_FIELD in a set request without \u001b[39m\u001b[39m\"\u001b[39m\n\u001b[1;32m    710\u001b[0m             \u001b[39m\"\u001b[39m\u001b[39mspecifying \u001b[39m\u001b[39m'\u001b[39m\u001b[39mmerge=True\u001b[39m\u001b[39m'\u001b[39m\u001b[39m or \u001b[39m\u001b[39m'\u001b[39m\u001b[39mmerge=[field_paths]\u001b[39m\u001b[39m'\u001b[39m\u001b[39m.\u001b[39m\u001b[39m\"\u001b[39m\n\u001b[1;32m    711\u001b[0m         )\n",
      "File \u001b[0;32m~/.local/lib/python3.10/site-packages/google/cloud/firestore_v1/_helpers.py:505\u001b[0m, in \u001b[0;36mDocumentExtractor.__init__\u001b[0;34m(self, document_data)\u001b[0m\n\u001b[1;32m    502\u001b[0m prefix_path \u001b[39m=\u001b[39m FieldPath()\n\u001b[1;32m    503\u001b[0m iterator \u001b[39m=\u001b[39m \u001b[39mself\u001b[39m\u001b[39m.\u001b[39m_get_document_iterator(prefix_path)\n\u001b[0;32m--> 505\u001b[0m \u001b[39mfor\u001b[39;00m field_path, value \u001b[39min\u001b[39;00m iterator:\n\u001b[1;32m    507\u001b[0m     \u001b[39mif\u001b[39;00m field_path \u001b[39m==\u001b[39m prefix_path \u001b[39mand\u001b[39;00m value \u001b[39mis\u001b[39;00m _EmptyDict:\n\u001b[1;32m    508\u001b[0m         \u001b[39mself\u001b[39m\u001b[39m.\u001b[39mempty_document \u001b[39m=\u001b[39m \u001b[39mTrue\u001b[39;00m\n",
      "File \u001b[0;32m~/.local/lib/python3.10/site-packages/google/cloud/firestore_v1/_helpers.py:442\u001b[0m, in \u001b[0;36mextract_fields\u001b[0;34m(document_data, prefix_path, expand_dots)\u001b[0m\n\u001b[1;32m    440\u001b[0m     \u001b[39myield\u001b[39;00m prefix_path, _EmptyDict\n\u001b[1;32m    441\u001b[0m \u001b[39melse\u001b[39;00m:\n\u001b[0;32m--> 442\u001b[0m     \u001b[39mfor\u001b[39;00m key, value \u001b[39min\u001b[39;00m \u001b[39msorted\u001b[39m(document_data\u001b[39m.\u001b[39;49mitems()):\n\u001b[1;32m    444\u001b[0m         \u001b[39mif\u001b[39;00m expand_dots:\n\u001b[1;32m    445\u001b[0m             sub_key \u001b[39m=\u001b[39m FieldPath\u001b[39m.\u001b[39mfrom_string(key)\n",
      "\u001b[0;31mAttributeError\u001b[0m: 'str' object has no attribute 'items'"
     ]
    }
   ],
   "source": [
    "\n",
    "\n",
    "def import_events():\n",
    "    creds = service_account.Credentials.from_service_account_file(\n",
    "        SERVICE_ACCOUNT_FILE, scopes=SCOPES)\n",
    "\n",
    "\n",
    "    try:\n",
    "        service = build('calendar', 'v3', credentials=creds)\n",
    "\n",
    "        # Call the Calendar API\n",
    "        now = datetime.datetime.utcnow().isoformat() + 'Z'  # 'Z' indicates UTC time\n",
    "        print('Getting the upcoming 10 events')\n",
    "        events_result = service.events().list(calendarId=googleCalendarId, timeMin=now,\n",
    "                                              maxResults=10, singleEvents=True,\n",
    "                                              orderBy='startTime').execute()\n",
    "        events = events_result.get('items', [])\n",
    "\n",
    "        if not events:\n",
    "            print('No upcoming events found.')\n",
    "            return\n",
    "\n",
    "        \n",
    "        db = firestore.Client()\n",
    "\n",
    "        events_collection = db.collection(\"events\")\n",
    "\n",
    "        # Add each event to Firestore\n",
    "        for event in events:\n",
    "            start = event['start'].get('dateTime', event['start'].get('date'))\n",
    "            \n",
    "\n",
    "            event_ref = events_collection.document(start)\n",
    "            event_ref.set(event['summary'])\n",
    "            print(start, event['summary'])\n",
    "            \n",
    "            #print(start, event['summary'], ' event_id= ', event['id'])\n",
    "\n",
    "\n",
    "       \n",
    "        #for event in events:\n",
    "        #   doc_ref = db.collection('events').document(event['id'])\n",
    "        #   doc_ref.set(event)\n",
    "\n",
    "    except HttpError as error:\n",
    "        print('An error occurred: %s' % error)\n",
    "\n",
    "\n",
    "if __name__ == '__main__':\n",
    "    import_events()\n",
    "\n",
    "#if __name__ == '__main__':\n",
    "    \n",
    "    #import_events()\n"
   ]
  },
  {
   "attachments": {},
   "cell_type": "markdown",
   "metadata": {},
   "source": [
    "### Create groups"
   ]
  },
  {
   "cell_type": "code",
   "execution_count": 5,
   "metadata": {},
   "outputs": [],
   "source": [
    "firestore_client = firestore.client()"
   ]
  },
  {
   "cell_type": "code",
   "execution_count": 6,
   "metadata": {},
   "outputs": [],
   "source": [
    "# Create a collection named 'groups'\n",
    "groups_ref = firestore_client.collection('groups')"
   ]
  },
  {
   "cell_type": "code",
   "execution_count": 7,
   "metadata": {},
   "outputs": [
    {
     "data": {
      "text/plain": [
       "update_time {\n",
       "  seconds: 1687524363\n",
       "  nanos: 541386000\n",
       "}"
      ]
     },
     "execution_count": 7,
     "metadata": {},
     "output_type": "execute_result"
    }
   ],
   "source": [
    "# Create a document with ID 'group1' and some data\n",
    "group1_ref = groups_ref.document('group1')\n",
    "group1_ref.set({\n",
    "    'name': 'Group 1',\n",
    "    'members': ['Alice', 'Bob', 'Charlie']\n",
    "})\n",
    "\n",
    "# Create another document with ID 'group2' and some data\n",
    "group2_ref = groups_ref.document('group2')\n",
    "group2_ref.set({\n",
    "    'name': 'Group 2',\n",
    "    'members': ['David', 'Eve', 'Frank']\n",
    "})"
   ]
  },
  {
   "attachments": {},
   "cell_type": "markdown",
   "metadata": {},
   "source": [
    "### Create test events manually\n",
    "Testing the strucutre"
   ]
  },
  {
   "cell_type": "code",
   "execution_count": 8,
   "metadata": {},
   "outputs": [
    {
     "data": {
      "text/plain": [
       "update_time {\n",
       "  seconds: 1687524383\n",
       "  nanos: 891796000\n",
       "}"
      ]
     },
     "execution_count": 8,
     "metadata": {},
     "output_type": "execute_result"
    }
   ],
   "source": [
    "# Create a collection named 'events'\n",
    "events_ref = firestore_client.collection('events')\n",
    "\n",
    "# Create a document with ID 'event1' and a reference to group1\n",
    "event1_ref = events_ref.document('event1')\n",
    "event1_ref.set({\n",
    "    'name': 'Event 1',\n",
    "    'date': '2023-06-30',\n",
    "    'group': group1_ref # Reference to group1 document\n",
    "})\n",
    "\n",
    "# Create another document with ID 'event2' and a reference to group2\n",
    "event2_ref = events_ref.document('event2')\n",
    "event2_ref.set({\n",
    "    'name': 'Event 2',\n",
    "    'date': '2023-07-01',\n",
    "    'group': group2_ref # Reference to group2 document\n",
    "})"
   ]
  },
  {
   "attachments": {},
   "cell_type": "markdown",
   "metadata": {},
   "source": [
    "### OLD VERSION OF EVENTS"
   ]
  },
  {
   "cell_type": "code",
   "execution_count": null,
   "metadata": {},
   "outputs": [
    {
     "data": {
      "text/plain": [
       "update_time {\n",
       "  seconds: 1687370617\n",
       "  nanos: 317941000\n",
       "}"
      ]
     },
     "execution_count": 24,
     "metadata": {},
     "output_type": "execute_result"
    }
   ],
   "source": [
    "# Create a sub-collection for events under the club document\n",
    "events = club_ref.collection(\"events\")\n",
    "\n",
    "# Create a document for an event with some data fields\n",
    "event_id = \"456\"\n",
    "event_data = {\n",
    "    \"title\": \"Fencing Tournament\",\n",
    "    \"date\": \"2023-06-30\",\n",
    "    \"location\": \"Gladius Arena\"\n",
    "}\n",
    "event_ref = events.document(event_id)\n",
    "event_ref.set(event_data)\n",
    "\n",
    "# Create a sub-collection for occurrences under the event document\n",
    "occurrences = event_ref.collection(\"occurrences\")\n",
    "\n",
    "# Create a document for an occurrence with some data fields\n",
    "occurrence_id = \"789\"\n",
    "occurrence_data = {\n",
    "    \"start_time\": \"14:00\",\n",
    "    \"end_time\": \"16:00\",\n",
    "    \"participants\": [\"Alice\", \"Bob\"]\n",
    "}\n",
    "occurrence_ref = occurrences.document(occurrence_id)\n",
    "occurrence_ref.set(occurrence_data)\n",
    "\n",
    "# Create a sub-collection for attendance under the occurrence document\n",
    "attendance = occurrence_ref.collection(\"attendance\")\n",
    "\n",
    "# Create a document for an attendance with some data fields\n",
    "attendance_id = \"1011\"\n",
    "attendance_data = {\n",
    "    \"name\": \"Alice\",\n",
    "    \"score\": 3\n",
    "}\n",
    "attendance_ref = attendance.document(attendance_id)\n",
    "attendance_ref.set(attendance_data)"
   ]
  }
 ],
 "metadata": {
  "kernelspec": {
   "display_name": "base",
   "language": "python",
   "name": "python3"
  },
  "language_info": {
   "codemirror_mode": {
    "name": "ipython",
    "version": 3
   },
   "file_extension": ".py",
   "mimetype": "text/x-python",
   "name": "python",
   "nbconvert_exporter": "python",
   "pygments_lexer": "ipython3",
   "version": "3.10.6"
  },
  "orig_nbformat": 4
 },
 "nbformat": 4,
 "nbformat_minor": 2
}
